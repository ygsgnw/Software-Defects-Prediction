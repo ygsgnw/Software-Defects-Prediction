{
 "cells": [
  {
   "cell_type": "code",
   "execution_count": 45,
   "id": "27423b10",
   "metadata": {},
   "outputs": [],
   "source": [
    "from scipy.io import arff\n",
    "import pandas as pd\n",
    "import numpy as np\n",
    "import math\n",
    "\n",
    "from numpy import unique\n",
    "from numpy import where\n",
    "from matplotlib import pyplot\n",
    "\n",
    "data = arff.loadarff('./../DefectData/inst/extdata/terapromise/mccabe/cm1.arff') \n",
    "df = pd.DataFrame(data[0])"
   ]
  },
  {
   "cell_type": "code",
   "execution_count": 46,
   "id": "e6a701b1",
   "metadata": {},
   "outputs": [
    {
     "data": {
      "text/plain": [
       "(327, 38)"
      ]
     },
     "execution_count": 46,
     "metadata": {},
     "output_type": "execute_result"
    }
   ],
   "source": [
    "df.shape"
   ]
  },
  {
   "cell_type": "code",
   "execution_count": 47,
   "id": "d41c118d",
   "metadata": {},
   "outputs": [
    {
     "data": {
      "text/html": [
       "<div>\n",
       "<style scoped>\n",
       "    .dataframe tbody tr th:only-of-type {\n",
       "        vertical-align: middle;\n",
       "    }\n",
       "\n",
       "    .dataframe tbody tr th {\n",
       "        vertical-align: top;\n",
       "    }\n",
       "\n",
       "    .dataframe thead th {\n",
       "        text-align: right;\n",
       "    }\n",
       "</style>\n",
       "<table border=\"1\" class=\"dataframe\">\n",
       "  <thead>\n",
       "    <tr style=\"text-align: right;\">\n",
       "      <th></th>\n",
       "      <th>LOC_BLANK</th>\n",
       "      <th>BRANCH_COUNT</th>\n",
       "      <th>CALL_PAIRS</th>\n",
       "      <th>LOC_CODE_AND_COMMENT</th>\n",
       "      <th>LOC_COMMENTS</th>\n",
       "      <th>CONDITION_COUNT</th>\n",
       "      <th>CYCLOMATIC_COMPLEXITY</th>\n",
       "      <th>CYCLOMATIC_DENSITY</th>\n",
       "      <th>DECISION_COUNT</th>\n",
       "      <th>DECISION_DENSITY</th>\n",
       "      <th>...</th>\n",
       "      <th>NODE_COUNT</th>\n",
       "      <th>NORMALIZED_CYLOMATIC_COMPLEXITY</th>\n",
       "      <th>NUM_OPERANDS</th>\n",
       "      <th>NUM_OPERATORS</th>\n",
       "      <th>NUM_UNIQUE_OPERANDS</th>\n",
       "      <th>NUM_UNIQUE_OPERATORS</th>\n",
       "      <th>NUMBER_OF_LINES</th>\n",
       "      <th>PERCENT_COMMENTS</th>\n",
       "      <th>LOC_TOTAL</th>\n",
       "      <th>Defective</th>\n",
       "    </tr>\n",
       "  </thead>\n",
       "  <tbody>\n",
       "    <tr>\n",
       "      <th>0</th>\n",
       "      <td>9.0</td>\n",
       "      <td>5.0</td>\n",
       "      <td>3.0</td>\n",
       "      <td>2.0</td>\n",
       "      <td>2.0</td>\n",
       "      <td>8.0</td>\n",
       "      <td>3.0</td>\n",
       "      <td>0.16</td>\n",
       "      <td>4.0</td>\n",
       "      <td>2.0</td>\n",
       "      <td>...</td>\n",
       "      <td>10.0</td>\n",
       "      <td>0.10</td>\n",
       "      <td>36.0</td>\n",
       "      <td>66.0</td>\n",
       "      <td>21.0</td>\n",
       "      <td>17.0</td>\n",
       "      <td>31.0</td>\n",
       "      <td>19.05</td>\n",
       "      <td>19.0</td>\n",
       "      <td>b'N'</td>\n",
       "    </tr>\n",
       "    <tr>\n",
       "      <th>1</th>\n",
       "      <td>19.0</td>\n",
       "      <td>3.0</td>\n",
       "      <td>1.0</td>\n",
       "      <td>2.0</td>\n",
       "      <td>0.0</td>\n",
       "      <td>4.0</td>\n",
       "      <td>2.0</td>\n",
       "      <td>0.06</td>\n",
       "      <td>2.0</td>\n",
       "      <td>2.0</td>\n",
       "      <td>...</td>\n",
       "      <td>23.0</td>\n",
       "      <td>0.04</td>\n",
       "      <td>66.0</td>\n",
       "      <td>69.0</td>\n",
       "      <td>34.0</td>\n",
       "      <td>12.0</td>\n",
       "      <td>55.0</td>\n",
       "      <td>5.71</td>\n",
       "      <td>35.0</td>\n",
       "      <td>b'N'</td>\n",
       "    </tr>\n",
       "    <tr>\n",
       "      <th>2</th>\n",
       "      <td>0.0</td>\n",
       "      <td>9.0</td>\n",
       "      <td>0.0</td>\n",
       "      <td>0.0</td>\n",
       "      <td>0.0</td>\n",
       "      <td>10.0</td>\n",
       "      <td>5.0</td>\n",
       "      <td>0.56</td>\n",
       "      <td>2.0</td>\n",
       "      <td>5.0</td>\n",
       "      <td>...</td>\n",
       "      <td>9.0</td>\n",
       "      <td>0.50</td>\n",
       "      <td>10.0</td>\n",
       "      <td>21.0</td>\n",
       "      <td>7.0</td>\n",
       "      <td>9.0</td>\n",
       "      <td>10.0</td>\n",
       "      <td>0.00</td>\n",
       "      <td>9.0</td>\n",
       "      <td>b'N'</td>\n",
       "    </tr>\n",
       "    <tr>\n",
       "      <th>3</th>\n",
       "      <td>2.0</td>\n",
       "      <td>15.0</td>\n",
       "      <td>2.0</td>\n",
       "      <td>1.0</td>\n",
       "      <td>9.0</td>\n",
       "      <td>24.0</td>\n",
       "      <td>8.0</td>\n",
       "      <td>0.19</td>\n",
       "      <td>10.0</td>\n",
       "      <td>2.4</td>\n",
       "      <td>...</td>\n",
       "      <td>18.0</td>\n",
       "      <td>0.15</td>\n",
       "      <td>67.0</td>\n",
       "      <td>120.0</td>\n",
       "      <td>43.0</td>\n",
       "      <td>19.0</td>\n",
       "      <td>54.0</td>\n",
       "      <td>19.61</td>\n",
       "      <td>42.0</td>\n",
       "      <td>b'N'</td>\n",
       "    </tr>\n",
       "    <tr>\n",
       "      <th>4</th>\n",
       "      <td>5.0</td>\n",
       "      <td>5.0</td>\n",
       "      <td>1.0</td>\n",
       "      <td>0.0</td>\n",
       "      <td>0.0</td>\n",
       "      <td>8.0</td>\n",
       "      <td>3.0</td>\n",
       "      <td>0.15</td>\n",
       "      <td>4.0</td>\n",
       "      <td>2.0</td>\n",
       "      <td>...</td>\n",
       "      <td>9.0</td>\n",
       "      <td>0.12</td>\n",
       "      <td>25.0</td>\n",
       "      <td>46.0</td>\n",
       "      <td>17.0</td>\n",
       "      <td>14.0</td>\n",
       "      <td>26.0</td>\n",
       "      <td>0.00</td>\n",
       "      <td>20.0</td>\n",
       "      <td>b'N'</td>\n",
       "    </tr>\n",
       "  </tbody>\n",
       "</table>\n",
       "<p>5 rows × 38 columns</p>\n",
       "</div>"
      ],
      "text/plain": [
       "   LOC_BLANK  BRANCH_COUNT  CALL_PAIRS  LOC_CODE_AND_COMMENT  LOC_COMMENTS  \\\n",
       "0        9.0           5.0         3.0                   2.0           2.0   \n",
       "1       19.0           3.0         1.0                   2.0           0.0   \n",
       "2        0.0           9.0         0.0                   0.0           0.0   \n",
       "3        2.0          15.0         2.0                   1.0           9.0   \n",
       "4        5.0           5.0         1.0                   0.0           0.0   \n",
       "\n",
       "   CONDITION_COUNT  CYCLOMATIC_COMPLEXITY  CYCLOMATIC_DENSITY  DECISION_COUNT  \\\n",
       "0              8.0                    3.0                0.16             4.0   \n",
       "1              4.0                    2.0                0.06             2.0   \n",
       "2             10.0                    5.0                0.56             2.0   \n",
       "3             24.0                    8.0                0.19            10.0   \n",
       "4              8.0                    3.0                0.15             4.0   \n",
       "\n",
       "   DECISION_DENSITY  ...  NODE_COUNT  NORMALIZED_CYLOMATIC_COMPLEXITY  \\\n",
       "0               2.0  ...        10.0                             0.10   \n",
       "1               2.0  ...        23.0                             0.04   \n",
       "2               5.0  ...         9.0                             0.50   \n",
       "3               2.4  ...        18.0                             0.15   \n",
       "4               2.0  ...         9.0                             0.12   \n",
       "\n",
       "   NUM_OPERANDS  NUM_OPERATORS  NUM_UNIQUE_OPERANDS  NUM_UNIQUE_OPERATORS  \\\n",
       "0          36.0           66.0                 21.0                  17.0   \n",
       "1          66.0           69.0                 34.0                  12.0   \n",
       "2          10.0           21.0                  7.0                   9.0   \n",
       "3          67.0          120.0                 43.0                  19.0   \n",
       "4          25.0           46.0                 17.0                  14.0   \n",
       "\n",
       "   NUMBER_OF_LINES  PERCENT_COMMENTS  LOC_TOTAL  Defective  \n",
       "0             31.0             19.05       19.0       b'N'  \n",
       "1             55.0              5.71       35.0       b'N'  \n",
       "2             10.0              0.00        9.0       b'N'  \n",
       "3             54.0             19.61       42.0       b'N'  \n",
       "4             26.0              0.00       20.0       b'N'  \n",
       "\n",
       "[5 rows x 38 columns]"
      ]
     },
     "execution_count": 47,
     "metadata": {},
     "output_type": "execute_result"
    }
   ],
   "source": [
    "df.head()"
   ]
  },
  {
   "cell_type": "code",
   "execution_count": 48,
   "id": "92955499",
   "metadata": {},
   "outputs": [
    {
     "data": {
      "text/plain": [
       "0    0\n",
       "1    0\n",
       "2    0\n",
       "3    0\n",
       "4    0\n",
       "Name: Defective, dtype: int64"
      ]
     },
     "execution_count": 48,
     "metadata": {},
     "output_type": "execute_result"
    }
   ],
   "source": [
    "buggy = b'Y'\n",
    "clean = b'N'\n",
    "x = df.drop(['Defective'],axis = 'columns')\n",
    "\n",
    "n,m = df.shape\n",
    "for i in range(n):\n",
    "    if df.iloc[i,m-1] == buggy:\n",
    "        df.iloc[i,m-1] = 1\n",
    "    else:\n",
    "        df.iloc[i,m-1] = 0\n",
    "\n",
    "y = df['Defective']\n",
    "y = y.astype(int)\n",
    "y.head()"
   ]
  },
  {
   "cell_type": "code",
   "execution_count": 49,
   "id": "e4b575bf",
   "metadata": {},
   "outputs": [
    {
     "data": {
      "text/plain": [
       "196"
      ]
     },
     "execution_count": 49,
     "metadata": {},
     "output_type": "execute_result"
    }
   ],
   "source": [
    "from sklearn.model_selection import train_test_split\n",
    "\n",
    "x_train, x_test, y_train, y_test = train_test_split(x,y,test_size = 0.4,stratify = y)\n",
    "\n",
    "len(x_train)"
   ]
  },
  {
   "cell_type": "code",
   "execution_count": 50,
   "id": "40c3b8b0",
   "metadata": {},
   "outputs": [
    {
     "data": {
      "text/plain": [
       "0    171\n",
       "1     25\n",
       "Name: Defective, dtype: int64"
      ]
     },
     "execution_count": 50,
     "metadata": {},
     "output_type": "execute_result"
    }
   ],
   "source": [
    "y_train.value_counts()"
   ]
  },
  {
   "cell_type": "code",
   "execution_count": 51,
   "id": "9de1c3e1",
   "metadata": {},
   "outputs": [
    {
     "data": {
      "text/plain": [
       "0    114\n",
       "1     17\n",
       "Name: Defective, dtype: int64"
      ]
     },
     "execution_count": 51,
     "metadata": {},
     "output_type": "execute_result"
    }
   ],
   "source": [
    "y_test.value_counts()"
   ]
  },
  {
   "cell_type": "code",
   "execution_count": 52,
   "id": "8dda4e01",
   "metadata": {},
   "outputs": [],
   "source": [
    "# training the model on training set\n",
    "from sklearn.naive_bayes import GaussianNB\n",
    "gnb = GaussianNB()\n",
    "gnb.fit(x_train, y_train)\n",
    "\n",
    "# making predictions on the testing set\n",
    "y_pred = gnb.predict(x_test)"
   ]
  },
  {
   "cell_type": "code",
   "execution_count": 53,
   "id": "9b093821",
   "metadata": {},
   "outputs": [
    {
     "name": "stdout",
     "output_type": "stream",
     "text": [
      "MCC : 0.5639375724374427\n",
      "Accuracy : 0.8778625954198473\n",
      "F-Score : 0.9272727272727272\n"
     ]
    }
   ],
   "source": [
    "from sklearn.metrics import confusion_matrix\n",
    "\n",
    "conf = confusion_matrix(y_test,y_pred)\n",
    "TP = conf[0,0]\n",
    "FP = conf[0,1]\n",
    "TN = conf[1,0]\n",
    "FN = conf[1,1]\n",
    "\n",
    "#Matthew Correlation Coefficient\n",
    "\n",
    "MCC = (TP*TN-FP*FN)/math.sqrt((TP+FP)*(TP+FN)*(TN+FP)*(TN+FN))\n",
    "accuracy = (TP+TN)/(TP+TN+FP+FN)\n",
    "precision = TP/(TP+FP)\n",
    "recall = TP/(TP+FN)\n",
    "#F1-Score\n",
    "F = 2*(precision*recall)/(precision+recall)\n",
    "\n",
    "print(f\"MCC : {MCC}\")\n",
    "print(f\"Accuracy : {accuracy}\")\n",
    "print(f\"F-Score : {F}\")"
   ]
  },
  {
   "cell_type": "code",
   "execution_count": 54,
   "id": "d5274d9f",
   "metadata": {},
   "outputs": [
    {
     "name": "stdout",
     "output_type": "stream",
     "text": [
      "MCC : 1.0\n",
      "Accuracy : 1.0\n",
      "F-Score : 1.0\n"
     ]
    }
   ],
   "source": [
    "from sklearn.svm import SVC\n",
    "\n",
    "svc_model = SVC() \n",
    "svc_model.fit(x_train, y_train) \n",
    "\n",
    "y_pred = svc_model .predict(x_test) \n",
    "\n",
    "\n",
    "from sklearn.metrics import confusion_matrix\n",
    "\n",
    "conf = confusion_matrix(y_test,y_pred)\n",
    "TP = conf[0,0]\n",
    "FP = conf[0,1]\n",
    "TN = conf[1,0]\n",
    "FN = conf[1,1]\n",
    "\n",
    "#Matthew Correlation Coefficient\n",
    "\n",
    "MCC = (TP*TN-FP*FN)/math.sqrt((TP+FP)*(TP+FN)*(TN+FP)*(TN+FN))\n",
    "accuracy = (TP+TN)/(TP+TN+FP+FN)\n",
    "precision = TP/(TP+FP)\n",
    "recall = TP/(TP+FN)\n",
    "#F1-Score\n",
    "F = 2*(precision*recall)/(precision+recall)\n",
    "\n",
    "print(f\"MCC : {MCC}\")\n",
    "print(f\"Accuracy : {accuracy}\")\n",
    "print(f\"F-Score : {F}\")"
   ]
  },
  {
   "cell_type": "code",
   "execution_count": 55,
   "id": "78519ebd",
   "metadata": {},
   "outputs": [
    {
     "name": "stdout",
     "output_type": "stream",
     "text": [
      "MCC : 0.9375711730447289\n",
      "Accuracy : 0.9847328244274809\n",
      "F-Score : 0.9911504424778761\n"
     ]
    }
   ],
   "source": [
    "from sklearn.neighbors import KNeighborsClassifier\n",
    "classifier = KNeighborsClassifier()\n",
    "classifier.fit(x_train, y_train)\n",
    "\n",
    "y_pred = classifier.predict(x_test)\n",
    "\n",
    "\n",
    "from sklearn.metrics import confusion_matrix\n",
    "\n",
    "conf = confusion_matrix(y_test,y_pred)\n",
    "TP = conf[0,0]\n",
    "FP = conf[0,1]\n",
    "TN = conf[1,0]\n",
    "FN = conf[1,1]\n",
    "\n",
    "#Matthew Correlation Coefficient\n",
    "\n",
    "MCC = (TP*TN-FP*FN)/math.sqrt((TP+FP)*(TP+FN)*(TN+FP)*(TN+FN))\n",
    "accuracy = (TP+TN)/(TP+TN+FP+FN)\n",
    "precision = TP/(TP+FP)\n",
    "recall = TP/(TP+FN)\n",
    "#F1-Score\n",
    "F = 2*(precision*recall)/(precision+recall)\n",
    "\n",
    "print(f\"MCC : {MCC}\")\n",
    "print(f\"Accuracy : {accuracy}\")\n",
    "print(f\"F-Score : {F}\")"
   ]
  },
  {
   "cell_type": "code",
   "execution_count": 56,
   "id": "cc844a60",
   "metadata": {},
   "outputs": [
    {
     "name": "stdout",
     "output_type": "stream",
     "text": [
      "MCC : 0.9324045407636739\n",
      "Accuracy : 0.9847328244274809\n",
      "F-Score : 0.9912280701754386\n"
     ]
    }
   ],
   "source": [
    "#Fitting Decision Tree classifier to the training set  \n",
    "from sklearn.ensemble import RandomForestClassifier  \n",
    "classifier= RandomForestClassifier(n_estimators= 10, criterion=\"entropy\")  \n",
    "classifier.fit(x_train, y_train)  \n",
    "\n",
    "y_pred= classifier.predict(x_test)  \n",
    "\n",
    "from sklearn.metrics import confusion_matrix\n",
    "\n",
    "conf = confusion_matrix(y_test,y_pred)\n",
    "TP = conf[0,0]\n",
    "FP = conf[0,1]\n",
    "TN = conf[1,0]\n",
    "FN = conf[1,1]\n",
    "\n",
    "#Matthew Correlation Coefficient\n",
    "\n",
    "MCC = (TP*TN-FP*FN)/math.sqrt((TP+FP)*(TP+FN)*(TN+FP)*(TN+FN))\n",
    "accuracy = (TP+TN)/(TP+TN+FP+FN)\n",
    "precision = TP/(TP+FP)\n",
    "recall = TP/(TP+FN)\n",
    "#F1-Score\n",
    "F = 2*(precision*recall)/(precision+recall)\n",
    "\n",
    "print(f\"MCC : {MCC}\")\n",
    "print(f\"Accuracy : {accuracy}\")\n",
    "print(f\"F-Score : {F}\")"
   ]
  },
  {
   "cell_type": "code",
   "execution_count": 57,
   "id": "ccdd60b2",
   "metadata": {},
   "outputs": [
    {
     "name": "stdout",
     "output_type": "stream",
     "text": [
      "MCC : 0.9375711730447289\n",
      "Accuracy : 0.9847328244274809\n",
      "F-Score : 0.9911504424778761\n"
     ]
    },
    {
     "name": "stderr",
     "output_type": "stream",
     "text": [
      "/home/subhash/.local/lib/python3.8/site-packages/sklearn/linear_model/_logistic.py:814: ConvergenceWarning: lbfgs failed to converge (status=1):\n",
      "STOP: TOTAL NO. of ITERATIONS REACHED LIMIT.\n",
      "\n",
      "Increase the number of iterations (max_iter) or scale the data as shown in:\n",
      "    https://scikit-learn.org/stable/modules/preprocessing.html\n",
      "Please also refer to the documentation for alternative solver options:\n",
      "    https://scikit-learn.org/stable/modules/linear_model.html#logistic-regression\n",
      "  n_iter_i = _check_optimize_result(\n"
     ]
    }
   ],
   "source": [
    "#Fitting Logistic Regression to the training set  \n",
    "from sklearn.linear_model import LogisticRegression  \n",
    "classifier= LogisticRegression(random_state=0)  \n",
    "classifier.fit(x_train, y_train) \n",
    "\n",
    "y_pred= classifier.predict(x_test)  \n",
    "\n",
    "from sklearn.metrics import confusion_matrix\n",
    "\n",
    "conf = confusion_matrix(y_test,y_pred)\n",
    "TP = conf[0,0]\n",
    "FP = conf[0,1]\n",
    "TN = conf[1,0]\n",
    "FN = conf[1,1]\n",
    "\n",
    "#Matthew Correlation Coefficient\n",
    "\n",
    "MCC = (TP*TN-FP*FN)/math.sqrt((TP+FP)*(TP+FN)*(TN+FP)*(TN+FN))\n",
    "accuracy = (TP+TN)/(TP+TN+FP+FN)\n",
    "precision = TP/(TP+FP)\n",
    "recall = TP/(TP+FN)\n",
    "#F1-Score\n",
    "F = 2*(precision*recall)/(precision+recall)\n",
    "\n",
    "print(f\"MCC : {MCC}\")\n",
    "print(f\"Accuracy : {accuracy}\")\n",
    "print(f\"F-Score : {F}\")"
   ]
  },
  {
   "cell_type": "code",
   "execution_count": null,
   "id": "8130dc62",
   "metadata": {},
   "outputs": [],
   "source": []
  },
  {
   "cell_type": "code",
   "execution_count": null,
   "id": "cc449fe3",
   "metadata": {},
   "outputs": [],
   "source": []
  },
  {
   "cell_type": "code",
   "execution_count": null,
   "id": "6dab480d",
   "metadata": {},
   "outputs": [],
   "source": []
  }
 ],
 "metadata": {
  "kernelspec": {
   "display_name": "Python 3 (ipykernel)",
   "language": "python",
   "name": "python3"
  },
  "language_info": {
   "codemirror_mode": {
    "name": "ipython",
    "version": 3
   },
   "file_extension": ".py",
   "mimetype": "text/x-python",
   "name": "python",
   "nbconvert_exporter": "python",
   "pygments_lexer": "ipython3",
   "version": "3.9.7"
  }
 },
 "nbformat": 4,
 "nbformat_minor": 5
}
