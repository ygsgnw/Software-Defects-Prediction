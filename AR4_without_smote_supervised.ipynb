{
 "cells": [
  {
   "cell_type": "code",
   "execution_count": 1,
   "id": "d25c205b",
   "metadata": {},
   "outputs": [],
   "source": [
    "from scipy.io import arff\n",
    "import pandas as pd\n",
    "import numpy as np\n",
    "import math\n",
    "\n",
    "from numpy import unique\n",
    "from numpy import where\n",
    "from matplotlib import pyplot\n",
    "\n",
    "data = arff.loadarff('./../DefectData/inst/extdata/terapromise/mccabe/ar4.arff') \n",
    "df = pd.DataFrame(data[0])"
   ]
  },
  {
   "cell_type": "code",
   "execution_count": 2,
   "id": "9d795216",
   "metadata": {},
   "outputs": [
    {
     "data": {
      "text/plain": [
       "0    0\n",
       "1    0\n",
       "2    0\n",
       "3    0\n",
       "4    0\n",
       "Name: defects, dtype: int64"
      ]
     },
     "execution_count": 2,
     "metadata": {},
     "output_type": "execute_result"
    }
   ],
   "source": [
    "buggy = b'true'\n",
    "clean = b'false'\n",
    "x = df.drop(['defects'],axis = 'columns')\n",
    "\n",
    "for i in range(107):\n",
    "    if df.iloc[i,29] == buggy:\n",
    "        df.iloc[i,29] = 1\n",
    "    else:\n",
    "        df.iloc[i,29] = 0\n",
    "\n",
    "y = df['defects']\n",
    "y = y.astype(int)\n",
    "y.head()"
   ]
  },
  {
   "cell_type": "code",
   "execution_count": 3,
   "id": "7b25d41e",
   "metadata": {},
   "outputs": [
    {
     "name": "stdout",
     "output_type": "stream",
     "text": [
      "Size of training data : 64\n",
      "Distribution of y_train values :\n",
      " 0    52\n",
      "1    12\n",
      "Name: defects, dtype: int64\n",
      "Distribution of y_test values :\n",
      " 0    35\n",
      "1     8\n",
      "Name: defects, dtype: int64\n"
     ]
    }
   ],
   "source": [
    "from sklearn.model_selection import train_test_split\n",
    "\n",
    "x_train, x_test, y_train, y_test = train_test_split(x,y,test_size = 0.4,stratify = y)\n",
    "\n",
    "print(f\"Size of training data : {len(x_train)}\")\n",
    "print(f\"Distribution of y_train values :\\n {y_train.value_counts()}\")\n",
    "print(f\"Distribution of y_test values :\\n {y_test.value_counts()}\")"
   ]
  },
  {
   "cell_type": "code",
   "execution_count": 4,
   "id": "44f28eb0",
   "metadata": {},
   "outputs": [
    {
     "name": "stdout",
     "output_type": "stream",
     "text": [
      "MCC : 0.9223309842157773\n",
      "Accuracy : 0.9767441860465116\n",
      "F-Score : 0.9859154929577464\n"
     ]
    }
   ],
   "source": [
    "# training the model on training set\n",
    "from sklearn.naive_bayes import GaussianNB\n",
    "gnb = GaussianNB()\n",
    "gnb.fit(x_train, y_train)\n",
    "\n",
    "# making predictions on the testing set\n",
    "y_pred = gnb.predict(x_test)\n",
    "\n",
    "from sklearn.metrics import confusion_matrix\n",
    "\n",
    "conf = confusion_matrix(y_test,y_pred)\n",
    "TP = conf[0,0]\n",
    "FP = conf[0,1]\n",
    "TN = conf[1,0]\n",
    "FN = conf[1,1]\n",
    "\n",
    "#Matthew Correlation Coefficient\n",
    "\n",
    "MCC = (TP*TN-FP*FN)/math.sqrt((TP+FP)*(TP+FN)*(TN+FP)*(TN+FN))\n",
    "accuracy = (TP+TN)/(TP+TN+FP+FN)\n",
    "precision = TP/(TP+FP)\n",
    "recall = TP/(TP+FN)\n",
    "#F1-Score\n",
    "F = 2*(precision*recall)/(precision+recall)\n",
    "\n",
    "print(f\"MCC : {MCC}\")\n",
    "print(f\"Accuracy : {accuracy}\")\n",
    "print(f\"F-Score : {F}\")"
   ]
  },
  {
   "cell_type": "code",
   "execution_count": 5,
   "id": "9841b2ae",
   "metadata": {},
   "outputs": [
    {
     "name": "stdout",
     "output_type": "stream",
     "text": [
      "MCC : 0.9223309842157773\n",
      "Accuracy : 0.9767441860465116\n",
      "F-Score : 0.9859154929577464\n"
     ]
    }
   ],
   "source": [
    "from sklearn.svm import SVC\n",
    "\n",
    "svc_model = SVC() \n",
    "svc_model.fit(x_train, y_train) \n",
    "\n",
    "y_pred = svc_model .predict(x_test) \n",
    "\n",
    "\n",
    "from sklearn.metrics import confusion_matrix\n",
    "\n",
    "conf = confusion_matrix(y_test,y_pred)\n",
    "TP = conf[0,0]\n",
    "FP = conf[0,1]\n",
    "TN = conf[1,0]\n",
    "FN = conf[1,1]\n",
    "\n",
    "#Matthew Correlation Coefficient\n",
    "\n",
    "MCC = (TP*TN-FP*FN)/math.sqrt((TP+FP)*(TP+FN)*(TN+FP)*(TN+FN))\n",
    "accuracy = (TP+TN)/(TP+TN+FP+FN)\n",
    "precision = TP/(TP+FP)\n",
    "recall = TP/(TP+FN)\n",
    "#F1-Score\n",
    "F = 2*(precision*recall)/(precision+recall)\n",
    "\n",
    "print(f\"MCC : {MCC}\")\n",
    "print(f\"Accuracy : {accuracy}\")\n",
    "print(f\"F-Score : {F}\")"
   ]
  },
  {
   "cell_type": "code",
   "execution_count": 6,
   "id": "d352c28e",
   "metadata": {},
   "outputs": [
    {
     "name": "stdout",
     "output_type": "stream",
     "text": [
      "MCC : 0.9223309842157773\n",
      "Accuracy : 0.9767441860465116\n",
      "F-Score : 0.9859154929577464\n"
     ]
    }
   ],
   "source": [
    "from sklearn.neighbors import KNeighborsClassifier\n",
    "classifier = KNeighborsClassifier()\n",
    "classifier.fit(x_train, y_train)\n",
    "\n",
    "y_pred = classifier.predict(x_test)\n",
    "\n",
    "\n",
    "from sklearn.metrics import confusion_matrix\n",
    "\n",
    "conf = confusion_matrix(y_test,y_pred)\n",
    "TP = conf[0,0]\n",
    "FP = conf[0,1]\n",
    "TN = conf[1,0]\n",
    "FN = conf[1,1]\n",
    "\n",
    "#Matthew Correlation Coefficient\n",
    "\n",
    "MCC = (TP*TN-FP*FN)/math.sqrt((TP+FP)*(TP+FN)*(TN+FP)*(TN+FN))\n",
    "accuracy = (TP+TN)/(TP+TN+FP+FN)\n",
    "precision = TP/(TP+FP)\n",
    "recall = TP/(TP+FN)\n",
    "#F1-Score\n",
    "F = 2*(precision*recall)/(precision+recall)\n",
    "\n",
    "print(f\"MCC : {MCC}\")\n",
    "print(f\"Accuracy : {accuracy}\")\n",
    "print(f\"F-Score : {F}\")"
   ]
  },
  {
   "cell_type": "code",
   "execution_count": 7,
   "id": "5f6826e7",
   "metadata": {},
   "outputs": [
    {
     "name": "stdout",
     "output_type": "stream",
     "text": [
      "MCC : 0.9223309842157773\n",
      "Accuracy : 0.9767441860465116\n",
      "F-Score : 0.9859154929577464\n"
     ]
    }
   ],
   "source": [
    "#Fitting Decision Tree classifier to the training set  \n",
    "from sklearn.ensemble import RandomForestClassifier  \n",
    "classifier= RandomForestClassifier(n_estimators= 10, criterion=\"entropy\")  \n",
    "classifier.fit(x_train, y_train)  \n",
    "\n",
    "y_pred= classifier.predict(x_test)  \n",
    "\n",
    "from sklearn.metrics import confusion_matrix\n",
    "\n",
    "conf = confusion_matrix(y_test,y_pred)\n",
    "TP = conf[0,0]\n",
    "FP = conf[0,1]\n",
    "TN = conf[1,0]\n",
    "FN = conf[1,1]\n",
    "\n",
    "#Matthew Correlation Coefficient\n",
    "\n",
    "MCC = (TP*TN-FP*FN)/math.sqrt((TP+FP)*(TP+FN)*(TN+FP)*(TN+FN))\n",
    "accuracy = (TP+TN)/(TP+TN+FP+FN)\n",
    "precision = TP/(TP+FP)\n",
    "recall = TP/(TP+FN)\n",
    "#F1-Score\n",
    "F = 2*(precision*recall)/(precision+recall)\n",
    "\n",
    "print(f\"MCC : {MCC}\")\n",
    "print(f\"Accuracy : {accuracy}\")\n",
    "print(f\"F-Score : {F}\")"
   ]
  },
  {
   "cell_type": "code",
   "execution_count": 8,
   "id": "371a6c50",
   "metadata": {},
   "outputs": [
    {
     "name": "stdout",
     "output_type": "stream",
     "text": [
      "MCC : 0.8464285714285714\n",
      "Accuracy : 0.9534883720930233\n",
      "F-Score : 0.9714285714285714\n"
     ]
    },
    {
     "name": "stderr",
     "output_type": "stream",
     "text": [
      "/home/subhash/.local/lib/python3.8/site-packages/sklearn/linear_model/_logistic.py:814: ConvergenceWarning: lbfgs failed to converge (status=1):\n",
      "STOP: TOTAL NO. of ITERATIONS REACHED LIMIT.\n",
      "\n",
      "Increase the number of iterations (max_iter) or scale the data as shown in:\n",
      "    https://scikit-learn.org/stable/modules/preprocessing.html\n",
      "Please also refer to the documentation for alternative solver options:\n",
      "    https://scikit-learn.org/stable/modules/linear_model.html#logistic-regression\n",
      "  n_iter_i = _check_optimize_result(\n"
     ]
    }
   ],
   "source": [
    "#Fitting Logistic Regression to the training set  \n",
    "from sklearn.linear_model import LogisticRegression  \n",
    "classifier= LogisticRegression(random_state=0)  \n",
    "classifier.fit(x_train, y_train) \n",
    "\n",
    "y_pred= classifier.predict(x_test)  \n",
    "\n",
    "from sklearn.metrics import confusion_matrix\n",
    "\n",
    "conf = confusion_matrix(y_test,y_pred)\n",
    "TP = conf[0,0]\n",
    "FP = conf[0,1]\n",
    "TN = conf[1,0]\n",
    "FN = conf[1,1]\n",
    "\n",
    "#Matthew Correlation Coefficient\n",
    "\n",
    "MCC = (TP*TN-FP*FN)/math.sqrt((TP+FP)*(TP+FN)*(TN+FP)*(TN+FN))\n",
    "accuracy = (TP+TN)/(TP+TN+FP+FN)\n",
    "precision = TP/(TP+FP)\n",
    "recall = TP/(TP+FN)\n",
    "#F1-Score\n",
    "F = 2*(precision*recall)/(precision+recall)\n",
    "\n",
    "print(f\"MCC : {MCC}\")\n",
    "print(f\"Accuracy : {accuracy}\")\n",
    "print(f\"F-Score : {F}\")"
   ]
  },
  {
   "cell_type": "code",
   "execution_count": null,
   "id": "47cd74f3",
   "metadata": {},
   "outputs": [],
   "source": []
  }
 ],
 "metadata": {
  "kernelspec": {
   "display_name": "Python 3 (ipykernel)",
   "language": "python",
   "name": "python3"
  },
  "language_info": {
   "codemirror_mode": {
    "name": "ipython",
    "version": 3
   },
   "file_extension": ".py",
   "mimetype": "text/x-python",
   "name": "python",
   "nbconvert_exporter": "python",
   "pygments_lexer": "ipython3",
   "version": "3.9.7"
  }
 },
 "nbformat": 4,
 "nbformat_minor": 5
}
