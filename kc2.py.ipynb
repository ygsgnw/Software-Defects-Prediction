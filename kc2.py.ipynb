{
 "cells": [
  {
   "cell_type": "code",
   "execution_count": 1,
   "id": "82862f23",
   "metadata": {},
   "outputs": [],
   "source": [
    "from scipy.io import arff\n",
    "import pandas as pd\n",
    "import numpy as np\n",
    "import math\n",
    "\n",
    "from numpy import unique\n",
    "from numpy import where\n",
    "from matplotlib import pyplot\n",
    "\n",
    "data = arff.loadarff('./DefectData-master/DefectData/inst/extdata/terapromise/mccabe/kc2.arff') \n",
    "df = pd.DataFrame(data[0])"
   ]
  },
  {
   "cell_type": "code",
   "execution_count": 2,
   "id": "68d6d4b8",
   "metadata": {},
   "outputs": [
    {
     "data": {
      "text/plain": [
       "(522, 22)"
      ]
     },
     "execution_count": 2,
     "metadata": {},
     "output_type": "execute_result"
    }
   ],
   "source": [
    "df.shape"
   ]
  },
  {
   "cell_type": "code",
   "execution_count": 3,
   "id": "e0eb4dc0",
   "metadata": {
    "scrolled": true
   },
   "outputs": [
    {
     "data": {
      "text/html": [
       "<div>\n",
       "<style scoped>\n",
       "    .dataframe tbody tr th:only-of-type {\n",
       "        vertical-align: middle;\n",
       "    }\n",
       "\n",
       "    .dataframe tbody tr th {\n",
       "        vertical-align: top;\n",
       "    }\n",
       "\n",
       "    .dataframe thead th {\n",
       "        text-align: right;\n",
       "    }\n",
       "</style>\n",
       "<table border=\"1\" class=\"dataframe\">\n",
       "  <thead>\n",
       "    <tr style=\"text-align: right;\">\n",
       "      <th></th>\n",
       "      <th>loc</th>\n",
       "      <th>v_g</th>\n",
       "      <th>ev_g</th>\n",
       "      <th>iv_g</th>\n",
       "      <th>n</th>\n",
       "      <th>v</th>\n",
       "      <th>l</th>\n",
       "      <th>d</th>\n",
       "      <th>i</th>\n",
       "      <th>e</th>\n",
       "      <th>...</th>\n",
       "      <th>lOCode</th>\n",
       "      <th>lOComment</th>\n",
       "      <th>lOBlank</th>\n",
       "      <th>lOCodeAndComment</th>\n",
       "      <th>uniq_Op</th>\n",
       "      <th>uniq_Opnd</th>\n",
       "      <th>total_Op</th>\n",
       "      <th>total_Opnd</th>\n",
       "      <th>branchCount</th>\n",
       "      <th>problems</th>\n",
       "    </tr>\n",
       "  </thead>\n",
       "  <tbody>\n",
       "    <tr>\n",
       "      <th>0</th>\n",
       "      <td>1.1</td>\n",
       "      <td>1.4</td>\n",
       "      <td>1.4</td>\n",
       "      <td>1.4</td>\n",
       "      <td>1.3</td>\n",
       "      <td>1.30</td>\n",
       "      <td>1.30</td>\n",
       "      <td>1.30</td>\n",
       "      <td>1.30</td>\n",
       "      <td>1.30</td>\n",
       "      <td>...</td>\n",
       "      <td>2.0</td>\n",
       "      <td>2.0</td>\n",
       "      <td>2.0</td>\n",
       "      <td>2.0</td>\n",
       "      <td>1.2</td>\n",
       "      <td>1.2</td>\n",
       "      <td>1.2</td>\n",
       "      <td>1.2</td>\n",
       "      <td>1.4</td>\n",
       "      <td>b'no'</td>\n",
       "    </tr>\n",
       "    <tr>\n",
       "      <th>1</th>\n",
       "      <td>1.0</td>\n",
       "      <td>1.0</td>\n",
       "      <td>1.0</td>\n",
       "      <td>1.0</td>\n",
       "      <td>1.0</td>\n",
       "      <td>1.00</td>\n",
       "      <td>1.00</td>\n",
       "      <td>1.00</td>\n",
       "      <td>1.00</td>\n",
       "      <td>1.00</td>\n",
       "      <td>...</td>\n",
       "      <td>1.0</td>\n",
       "      <td>1.0</td>\n",
       "      <td>1.0</td>\n",
       "      <td>1.0</td>\n",
       "      <td>1.0</td>\n",
       "      <td>1.0</td>\n",
       "      <td>1.0</td>\n",
       "      <td>1.0</td>\n",
       "      <td>1.0</td>\n",
       "      <td>b'yes'</td>\n",
       "    </tr>\n",
       "    <tr>\n",
       "      <th>2</th>\n",
       "      <td>415.0</td>\n",
       "      <td>59.0</td>\n",
       "      <td>50.0</td>\n",
       "      <td>51.0</td>\n",
       "      <td>1159.0</td>\n",
       "      <td>8411.31</td>\n",
       "      <td>0.01</td>\n",
       "      <td>103.53</td>\n",
       "      <td>81.24</td>\n",
       "      <td>870848.58</td>\n",
       "      <td>...</td>\n",
       "      <td>359.0</td>\n",
       "      <td>35.0</td>\n",
       "      <td>9.0</td>\n",
       "      <td>10.0</td>\n",
       "      <td>47.0</td>\n",
       "      <td>106.0</td>\n",
       "      <td>692.0</td>\n",
       "      <td>467.0</td>\n",
       "      <td>106.0</td>\n",
       "      <td>b'yes'</td>\n",
       "    </tr>\n",
       "    <tr>\n",
       "      <th>3</th>\n",
       "      <td>230.0</td>\n",
       "      <td>33.0</td>\n",
       "      <td>10.0</td>\n",
       "      <td>16.0</td>\n",
       "      <td>575.0</td>\n",
       "      <td>3732.82</td>\n",
       "      <td>0.03</td>\n",
       "      <td>39.82</td>\n",
       "      <td>93.74</td>\n",
       "      <td>148644.06</td>\n",
       "      <td>...</td>\n",
       "      <td>174.0</td>\n",
       "      <td>15.0</td>\n",
       "      <td>34.0</td>\n",
       "      <td>5.0</td>\n",
       "      <td>23.0</td>\n",
       "      <td>67.0</td>\n",
       "      <td>343.0</td>\n",
       "      <td>232.0</td>\n",
       "      <td>65.0</td>\n",
       "      <td>b'yes'</td>\n",
       "    </tr>\n",
       "    <tr>\n",
       "      <th>4</th>\n",
       "      <td>175.0</td>\n",
       "      <td>26.0</td>\n",
       "      <td>12.0</td>\n",
       "      <td>13.0</td>\n",
       "      <td>500.0</td>\n",
       "      <td>3123.96</td>\n",
       "      <td>0.03</td>\n",
       "      <td>29.48</td>\n",
       "      <td>105.96</td>\n",
       "      <td>92103.07</td>\n",
       "      <td>...</td>\n",
       "      <td>142.0</td>\n",
       "      <td>7.0</td>\n",
       "      <td>19.0</td>\n",
       "      <td>4.0</td>\n",
       "      <td>18.0</td>\n",
       "      <td>58.0</td>\n",
       "      <td>310.0</td>\n",
       "      <td>190.0</td>\n",
       "      <td>51.0</td>\n",
       "      <td>b'yes'</td>\n",
       "    </tr>\n",
       "  </tbody>\n",
       "</table>\n",
       "<p>5 rows × 22 columns</p>\n",
       "</div>"
      ],
      "text/plain": [
       "     loc   v_g  ev_g  iv_g       n        v     l       d       i          e  \\\n",
       "0    1.1   1.4   1.4   1.4     1.3     1.30  1.30    1.30    1.30       1.30   \n",
       "1    1.0   1.0   1.0   1.0     1.0     1.00  1.00    1.00    1.00       1.00   \n",
       "2  415.0  59.0  50.0  51.0  1159.0  8411.31  0.01  103.53   81.24  870848.58   \n",
       "3  230.0  33.0  10.0  16.0   575.0  3732.82  0.03   39.82   93.74  148644.06   \n",
       "4  175.0  26.0  12.0  13.0   500.0  3123.96  0.03   29.48  105.96   92103.07   \n",
       "\n",
       "   ...  lOCode  lOComment  lOBlank  lOCodeAndComment  uniq_Op  uniq_Opnd  \\\n",
       "0  ...     2.0        2.0      2.0               2.0      1.2        1.2   \n",
       "1  ...     1.0        1.0      1.0               1.0      1.0        1.0   \n",
       "2  ...   359.0       35.0      9.0              10.0     47.0      106.0   \n",
       "3  ...   174.0       15.0     34.0               5.0     23.0       67.0   \n",
       "4  ...   142.0        7.0     19.0               4.0     18.0       58.0   \n",
       "\n",
       "   total_Op  total_Opnd  branchCount  problems  \n",
       "0       1.2         1.2          1.4     b'no'  \n",
       "1       1.0         1.0          1.0    b'yes'  \n",
       "2     692.0       467.0        106.0    b'yes'  \n",
       "3     343.0       232.0         65.0    b'yes'  \n",
       "4     310.0       190.0         51.0    b'yes'  \n",
       "\n",
       "[5 rows x 22 columns]"
      ]
     },
     "execution_count": 3,
     "metadata": {},
     "output_type": "execute_result"
    }
   ],
   "source": [
    "df.head()"
   ]
  },
  {
   "cell_type": "code",
   "execution_count": 5,
   "id": "1e60269a",
   "metadata": {
    "scrolled": false
   },
   "outputs": [
    {
     "data": {
      "text/html": [
       "<div>\n",
       "<style scoped>\n",
       "    .dataframe tbody tr th:only-of-type {\n",
       "        vertical-align: middle;\n",
       "    }\n",
       "\n",
       "    .dataframe tbody tr th {\n",
       "        vertical-align: top;\n",
       "    }\n",
       "\n",
       "    .dataframe thead th {\n",
       "        text-align: right;\n",
       "    }\n",
       "</style>\n",
       "<table border=\"1\" class=\"dataframe\">\n",
       "  <thead>\n",
       "    <tr style=\"text-align: right;\">\n",
       "      <th></th>\n",
       "      <th>loc</th>\n",
       "      <th>v_g</th>\n",
       "      <th>ev_g</th>\n",
       "      <th>iv_g</th>\n",
       "      <th>n</th>\n",
       "      <th>v</th>\n",
       "      <th>l</th>\n",
       "      <th>d</th>\n",
       "      <th>i</th>\n",
       "      <th>e</th>\n",
       "      <th>...</th>\n",
       "      <th>t</th>\n",
       "      <th>lOCode</th>\n",
       "      <th>lOComment</th>\n",
       "      <th>lOBlank</th>\n",
       "      <th>lOCodeAndComment</th>\n",
       "      <th>uniq_Op</th>\n",
       "      <th>uniq_Opnd</th>\n",
       "      <th>total_Op</th>\n",
       "      <th>total_Opnd</th>\n",
       "      <th>branchCount</th>\n",
       "    </tr>\n",
       "  </thead>\n",
       "  <tbody>\n",
       "    <tr>\n",
       "      <th>0</th>\n",
       "      <td>1.1</td>\n",
       "      <td>1.4</td>\n",
       "      <td>1.4</td>\n",
       "      <td>1.4</td>\n",
       "      <td>1.3</td>\n",
       "      <td>1.30</td>\n",
       "      <td>1.30</td>\n",
       "      <td>1.30</td>\n",
       "      <td>1.30</td>\n",
       "      <td>1.30</td>\n",
       "      <td>...</td>\n",
       "      <td>1.30</td>\n",
       "      <td>2.0</td>\n",
       "      <td>2.0</td>\n",
       "      <td>2.0</td>\n",
       "      <td>2.0</td>\n",
       "      <td>1.2</td>\n",
       "      <td>1.2</td>\n",
       "      <td>1.2</td>\n",
       "      <td>1.2</td>\n",
       "      <td>1.4</td>\n",
       "    </tr>\n",
       "    <tr>\n",
       "      <th>1</th>\n",
       "      <td>1.0</td>\n",
       "      <td>1.0</td>\n",
       "      <td>1.0</td>\n",
       "      <td>1.0</td>\n",
       "      <td>1.0</td>\n",
       "      <td>1.00</td>\n",
       "      <td>1.00</td>\n",
       "      <td>1.00</td>\n",
       "      <td>1.00</td>\n",
       "      <td>1.00</td>\n",
       "      <td>...</td>\n",
       "      <td>1.00</td>\n",
       "      <td>1.0</td>\n",
       "      <td>1.0</td>\n",
       "      <td>1.0</td>\n",
       "      <td>1.0</td>\n",
       "      <td>1.0</td>\n",
       "      <td>1.0</td>\n",
       "      <td>1.0</td>\n",
       "      <td>1.0</td>\n",
       "      <td>1.0</td>\n",
       "    </tr>\n",
       "    <tr>\n",
       "      <th>2</th>\n",
       "      <td>415.0</td>\n",
       "      <td>59.0</td>\n",
       "      <td>50.0</td>\n",
       "      <td>51.0</td>\n",
       "      <td>1159.0</td>\n",
       "      <td>8411.31</td>\n",
       "      <td>0.01</td>\n",
       "      <td>103.53</td>\n",
       "      <td>81.24</td>\n",
       "      <td>870848.58</td>\n",
       "      <td>...</td>\n",
       "      <td>48380.48</td>\n",
       "      <td>359.0</td>\n",
       "      <td>35.0</td>\n",
       "      <td>9.0</td>\n",
       "      <td>10.0</td>\n",
       "      <td>47.0</td>\n",
       "      <td>106.0</td>\n",
       "      <td>692.0</td>\n",
       "      <td>467.0</td>\n",
       "      <td>106.0</td>\n",
       "    </tr>\n",
       "    <tr>\n",
       "      <th>3</th>\n",
       "      <td>230.0</td>\n",
       "      <td>33.0</td>\n",
       "      <td>10.0</td>\n",
       "      <td>16.0</td>\n",
       "      <td>575.0</td>\n",
       "      <td>3732.82</td>\n",
       "      <td>0.03</td>\n",
       "      <td>39.82</td>\n",
       "      <td>93.74</td>\n",
       "      <td>148644.06</td>\n",
       "      <td>...</td>\n",
       "      <td>8258.00</td>\n",
       "      <td>174.0</td>\n",
       "      <td>15.0</td>\n",
       "      <td>34.0</td>\n",
       "      <td>5.0</td>\n",
       "      <td>23.0</td>\n",
       "      <td>67.0</td>\n",
       "      <td>343.0</td>\n",
       "      <td>232.0</td>\n",
       "      <td>65.0</td>\n",
       "    </tr>\n",
       "    <tr>\n",
       "      <th>4</th>\n",
       "      <td>175.0</td>\n",
       "      <td>26.0</td>\n",
       "      <td>12.0</td>\n",
       "      <td>13.0</td>\n",
       "      <td>500.0</td>\n",
       "      <td>3123.96</td>\n",
       "      <td>0.03</td>\n",
       "      <td>29.48</td>\n",
       "      <td>105.96</td>\n",
       "      <td>92103.07</td>\n",
       "      <td>...</td>\n",
       "      <td>5116.84</td>\n",
       "      <td>142.0</td>\n",
       "      <td>7.0</td>\n",
       "      <td>19.0</td>\n",
       "      <td>4.0</td>\n",
       "      <td>18.0</td>\n",
       "      <td>58.0</td>\n",
       "      <td>310.0</td>\n",
       "      <td>190.0</td>\n",
       "      <td>51.0</td>\n",
       "    </tr>\n",
       "  </tbody>\n",
       "</table>\n",
       "<p>5 rows × 21 columns</p>\n",
       "</div>"
      ],
      "text/plain": [
       "     loc   v_g  ev_g  iv_g       n        v     l       d       i          e  \\\n",
       "0    1.1   1.4   1.4   1.4     1.3     1.30  1.30    1.30    1.30       1.30   \n",
       "1    1.0   1.0   1.0   1.0     1.0     1.00  1.00    1.00    1.00       1.00   \n",
       "2  415.0  59.0  50.0  51.0  1159.0  8411.31  0.01  103.53   81.24  870848.58   \n",
       "3  230.0  33.0  10.0  16.0   575.0  3732.82  0.03   39.82   93.74  148644.06   \n",
       "4  175.0  26.0  12.0  13.0   500.0  3123.96  0.03   29.48  105.96   92103.07   \n",
       "\n",
       "   ...         t  lOCode  lOComment  lOBlank  lOCodeAndComment  uniq_Op  \\\n",
       "0  ...      1.30     2.0        2.0      2.0               2.0      1.2   \n",
       "1  ...      1.00     1.0        1.0      1.0               1.0      1.0   \n",
       "2  ...  48380.48   359.0       35.0      9.0              10.0     47.0   \n",
       "3  ...   8258.00   174.0       15.0     34.0               5.0     23.0   \n",
       "4  ...   5116.84   142.0        7.0     19.0               4.0     18.0   \n",
       "\n",
       "   uniq_Opnd  total_Op  total_Opnd  branchCount  \n",
       "0        1.2       1.2         1.2          1.4  \n",
       "1        1.0       1.0         1.0          1.0  \n",
       "2      106.0     692.0       467.0        106.0  \n",
       "3       67.0     343.0       232.0         65.0  \n",
       "4       58.0     310.0       190.0         51.0  \n",
       "\n",
       "[5 rows x 21 columns]"
      ]
     },
     "execution_count": 5,
     "metadata": {},
     "output_type": "execute_result"
    }
   ],
   "source": [
    "x = df.drop(['problems'],axis = 'columns')\n",
    "x.head()"
   ]
  },
  {
   "cell_type": "code",
   "execution_count": 6,
   "id": "9ecae5f7",
   "metadata": {},
   "outputs": [
    {
     "name": "stderr",
     "output_type": "stream",
     "text": [
      "C:\\Users\\Hp\\AppData\\Local\\Temp/ipykernel_7128/1652929545.py:4: SettingWithCopyWarning: \n",
      "A value is trying to be set on a copy of a slice from a DataFrame\n",
      "\n",
      "See the caveats in the documentation: https://pandas.pydata.org/pandas-docs/stable/user_guide/indexing.html#returning-a-view-versus-a-copy\n",
      "  df.problems[df.problems == buggy] = 0\n",
      "C:\\Users\\Hp\\AppData\\Local\\Temp/ipykernel_7128/1652929545.py:5: SettingWithCopyWarning: \n",
      "A value is trying to be set on a copy of a slice from a DataFrame\n",
      "\n",
      "See the caveats in the documentation: https://pandas.pydata.org/pandas-docs/stable/user_guide/indexing.html#returning-a-view-versus-a-copy\n",
      "  df.problems[df.problems == clean] = 1\n"
     ]
    },
    {
     "data": {
      "text/plain": [
       "0    1\n",
       "1    0\n",
       "2    0\n",
       "3    0\n",
       "4    0\n",
       "Name: problems, dtype: int32"
      ]
     },
     "execution_count": 6,
     "metadata": {},
     "output_type": "execute_result"
    }
   ],
   "source": [
    "buggy = b'yes'\n",
    "clean = b'no'\n",
    "\n",
    "df.problems[df.problems == buggy] = 0\n",
    "df.problems[df.problems == clean] = 1\n",
    "\n",
    "df['problems'].astype(object).astype(int)\n",
    "\n",
    "y = df['problems']\n",
    "y = y.astype(int)\n",
    "y.head()"
   ]
  },
  {
   "cell_type": "code",
   "execution_count": 7,
   "id": "19718aa8",
   "metadata": {},
   "outputs": [
    {
     "name": "stderr",
     "output_type": "stream",
     "text": [
      "C:\\Users\\Hp\\anaconda3\\lib\\site-packages\\sklearn\\linear_model\\_logistic.py:814: ConvergenceWarning: lbfgs failed to converge (status=1):\n",
      "STOP: TOTAL NO. of ITERATIONS REACHED LIMIT.\n",
      "\n",
      "Increase the number of iterations (max_iter) or scale the data as shown in:\n",
      "    https://scikit-learn.org/stable/modules/preprocessing.html\n",
      "Please also refer to the documentation for alternative solver options:\n",
      "    https://scikit-learn.org/stable/modules/linear_model.html#logistic-regression\n",
      "  n_iter_i = _check_optimize_result(\n",
      "C:\\Users\\Hp\\anaconda3\\lib\\site-packages\\sklearn\\linear_model\\_logistic.py:814: ConvergenceWarning: lbfgs failed to converge (status=1):\n",
      "STOP: TOTAL NO. of ITERATIONS REACHED LIMIT.\n",
      "\n",
      "Increase the number of iterations (max_iter) or scale the data as shown in:\n",
      "    https://scikit-learn.org/stable/modules/preprocessing.html\n",
      "Please also refer to the documentation for alternative solver options:\n",
      "    https://scikit-learn.org/stable/modules/linear_model.html#logistic-regression\n",
      "  n_iter_i = _check_optimize_result(\n",
      "C:\\Users\\Hp\\anaconda3\\lib\\site-packages\\sklearn\\linear_model\\_logistic.py:814: ConvergenceWarning: lbfgs failed to converge (status=1):\n",
      "STOP: TOTAL NO. of ITERATIONS REACHED LIMIT.\n",
      "\n",
      "Increase the number of iterations (max_iter) or scale the data as shown in:\n",
      "    https://scikit-learn.org/stable/modules/preprocessing.html\n",
      "Please also refer to the documentation for alternative solver options:\n",
      "    https://scikit-learn.org/stable/modules/linear_model.html#logistic-regression\n",
      "  n_iter_i = _check_optimize_result(\n",
      "C:\\Users\\Hp\\anaconda3\\lib\\site-packages\\sklearn\\linear_model\\_logistic.py:814: ConvergenceWarning: lbfgs failed to converge (status=1):\n",
      "STOP: TOTAL NO. of ITERATIONS REACHED LIMIT.\n",
      "\n",
      "Increase the number of iterations (max_iter) or scale the data as shown in:\n",
      "    https://scikit-learn.org/stable/modules/preprocessing.html\n",
      "Please also refer to the documentation for alternative solver options:\n",
      "    https://scikit-learn.org/stable/modules/linear_model.html#logistic-regression\n",
      "  n_iter_i = _check_optimize_result(\n",
      "C:\\Users\\Hp\\anaconda3\\lib\\site-packages\\sklearn\\linear_model\\_logistic.py:814: ConvergenceWarning: lbfgs failed to converge (status=1):\n",
      "STOP: TOTAL NO. of ITERATIONS REACHED LIMIT.\n",
      "\n",
      "Increase the number of iterations (max_iter) or scale the data as shown in:\n",
      "    https://scikit-learn.org/stable/modules/preprocessing.html\n",
      "Please also refer to the documentation for alternative solver options:\n",
      "    https://scikit-learn.org/stable/modules/linear_model.html#logistic-regression\n",
      "  n_iter_i = _check_optimize_result(\n",
      "C:\\Users\\Hp\\anaconda3\\lib\\site-packages\\sklearn\\linear_model\\_logistic.py:814: ConvergenceWarning: lbfgs failed to converge (status=1):\n",
      "STOP: TOTAL NO. of ITERATIONS REACHED LIMIT.\n",
      "\n",
      "Increase the number of iterations (max_iter) or scale the data as shown in:\n",
      "    https://scikit-learn.org/stable/modules/preprocessing.html\n",
      "Please also refer to the documentation for alternative solver options:\n",
      "    https://scikit-learn.org/stable/modules/linear_model.html#logistic-regression\n",
      "  n_iter_i = _check_optimize_result(\n",
      "C:\\Users\\Hp\\anaconda3\\lib\\site-packages\\sklearn\\linear_model\\_logistic.py:814: ConvergenceWarning: lbfgs failed to converge (status=1):\n",
      "STOP: TOTAL NO. of ITERATIONS REACHED LIMIT.\n",
      "\n",
      "Increase the number of iterations (max_iter) or scale the data as shown in:\n",
      "    https://scikit-learn.org/stable/modules/preprocessing.html\n",
      "Please also refer to the documentation for alternative solver options:\n",
      "    https://scikit-learn.org/stable/modules/linear_model.html#logistic-regression\n",
      "  n_iter_i = _check_optimize_result(\n",
      "C:\\Users\\Hp\\anaconda3\\lib\\site-packages\\sklearn\\linear_model\\_logistic.py:814: ConvergenceWarning: lbfgs failed to converge (status=1):\n",
      "STOP: TOTAL NO. of ITERATIONS REACHED LIMIT.\n",
      "\n",
      "Increase the number of iterations (max_iter) or scale the data as shown in:\n",
      "    https://scikit-learn.org/stable/modules/preprocessing.html\n",
      "Please also refer to the documentation for alternative solver options:\n",
      "    https://scikit-learn.org/stable/modules/linear_model.html#logistic-regression\n",
      "  n_iter_i = _check_optimize_result(\n",
      "C:\\Users\\Hp\\anaconda3\\lib\\site-packages\\sklearn\\linear_model\\_logistic.py:814: ConvergenceWarning: lbfgs failed to converge (status=1):\n",
      "STOP: TOTAL NO. of ITERATIONS REACHED LIMIT.\n",
      "\n",
      "Increase the number of iterations (max_iter) or scale the data as shown in:\n",
      "    https://scikit-learn.org/stable/modules/preprocessing.html\n",
      "Please also refer to the documentation for alternative solver options:\n",
      "    https://scikit-learn.org/stable/modules/linear_model.html#logistic-regression\n",
      "  n_iter_i = _check_optimize_result(\n",
      "C:\\Users\\Hp\\anaconda3\\lib\\site-packages\\sklearn\\linear_model\\_logistic.py:814: ConvergenceWarning: lbfgs failed to converge (status=1):\n",
      "STOP: TOTAL NO. of ITERATIONS REACHED LIMIT.\n",
      "\n",
      "Increase the number of iterations (max_iter) or scale the data as shown in:\n",
      "    https://scikit-learn.org/stable/modules/preprocessing.html\n",
      "Please also refer to the documentation for alternative solver options:\n",
      "    https://scikit-learn.org/stable/modules/linear_model.html#logistic-regression\n",
      "  n_iter_i = _check_optimize_result(\n",
      "C:\\Users\\Hp\\anaconda3\\lib\\site-packages\\sklearn\\linear_model\\_logistic.py:814: ConvergenceWarning: lbfgs failed to converge (status=1):\n",
      "STOP: TOTAL NO. of ITERATIONS REACHED LIMIT.\n",
      "\n",
      "Increase the number of iterations (max_iter) or scale the data as shown in:\n",
      "    https://scikit-learn.org/stable/modules/preprocessing.html\n",
      "Please also refer to the documentation for alternative solver options:\n",
      "    https://scikit-learn.org/stable/modules/linear_model.html#logistic-regression\n",
      "  n_iter_i = _check_optimize_result(\n",
      "C:\\Users\\Hp\\anaconda3\\lib\\site-packages\\sklearn\\linear_model\\_logistic.py:814: ConvergenceWarning: lbfgs failed to converge (status=1):\n",
      "STOP: TOTAL NO. of ITERATIONS REACHED LIMIT.\n",
      "\n",
      "Increase the number of iterations (max_iter) or scale the data as shown in:\n",
      "    https://scikit-learn.org/stable/modules/preprocessing.html\n",
      "Please also refer to the documentation for alternative solver options:\n",
      "    https://scikit-learn.org/stable/modules/linear_model.html#logistic-regression\n",
      "  n_iter_i = _check_optimize_result(\n"
     ]
    },
    {
     "data": {
      "text/plain": [
       "[True,\n",
       " True,\n",
       " False,\n",
       " False,\n",
       " True,\n",
       " False,\n",
       " True,\n",
       " True,\n",
       " False,\n",
       " False,\n",
       " False,\n",
       " False,\n",
       " True,\n",
       " True,\n",
       " True,\n",
       " False,\n",
       " False,\n",
       " True,\n",
       " False,\n",
       " False,\n",
       " True]"
      ]
     },
     "execution_count": 7,
     "metadata": {},
     "output_type": "execute_result"
    }
   ],
   "source": [
    "from sklearn.linear_model import LogisticRegression\n",
    "from sklearn.feature_selection import RFE\n",
    "\n",
    "model = LogisticRegression()\n",
    "rfe = RFE(model)\n",
    "fit = rfe.fit(x,y)\n",
    "\n",
    "fit.support_\n",
    "\n",
    "selected = list(fit.support_)\n",
    "selected"
   ]
  },
  {
   "cell_type": "code",
   "execution_count": 8,
   "id": "5c921433",
   "metadata": {},
   "outputs": [
    {
     "data": {
      "text/plain": [
       "['loc',\n",
       " 'v_g',\n",
       " 'ev_g',\n",
       " 'iv_g',\n",
       " 'n',\n",
       " 'v',\n",
       " 'l',\n",
       " 'd',\n",
       " 'i',\n",
       " 'e',\n",
       " 'b',\n",
       " 't',\n",
       " 'lOCode',\n",
       " 'lOComment',\n",
       " 'lOBlank',\n",
       " 'lOCodeAndComment',\n",
       " 'uniq_Op',\n",
       " 'uniq_Opnd',\n",
       " 'total_Op',\n",
       " 'total_Opnd',\n",
       " 'branchCount',\n",
       " 'problems']"
      ]
     },
     "execution_count": 8,
     "metadata": {},
     "output_type": "execute_result"
    }
   ],
   "source": [
    "columns_names = df.columns.values.tolist()\n",
    "columns_names"
   ]
  },
  {
   "cell_type": "code",
   "execution_count": 9,
   "id": "4f8976a0",
   "metadata": {},
   "outputs": [
    {
     "name": "stdout",
     "output_type": "stream",
     "text": [
      "22\n",
      "21\n"
     ]
    }
   ],
   "source": [
    "print(len(columns_names))\n",
    "print(len(selected))"
   ]
  },
  {
   "cell_type": "code",
   "execution_count": 10,
   "id": "f1c783f3",
   "metadata": {},
   "outputs": [
    {
     "data": {
      "text/html": [
       "<div>\n",
       "<style scoped>\n",
       "    .dataframe tbody tr th:only-of-type {\n",
       "        vertical-align: middle;\n",
       "    }\n",
       "\n",
       "    .dataframe tbody tr th {\n",
       "        vertical-align: top;\n",
       "    }\n",
       "\n",
       "    .dataframe thead th {\n",
       "        text-align: right;\n",
       "    }\n",
       "</style>\n",
       "<table border=\"1\" class=\"dataframe\">\n",
       "  <thead>\n",
       "    <tr style=\"text-align: right;\">\n",
       "      <th></th>\n",
       "      <th>loc</th>\n",
       "      <th>v_g</th>\n",
       "      <th>n</th>\n",
       "      <th>l</th>\n",
       "      <th>d</th>\n",
       "      <th>lOCode</th>\n",
       "      <th>lOComment</th>\n",
       "      <th>lOBlank</th>\n",
       "      <th>uniq_Opnd</th>\n",
       "      <th>branchCount</th>\n",
       "      <th>problems</th>\n",
       "    </tr>\n",
       "  </thead>\n",
       "  <tbody>\n",
       "    <tr>\n",
       "      <th>0</th>\n",
       "      <td>1.1</td>\n",
       "      <td>1.4</td>\n",
       "      <td>1.3</td>\n",
       "      <td>1.30</td>\n",
       "      <td>1.30</td>\n",
       "      <td>2.0</td>\n",
       "      <td>2.0</td>\n",
       "      <td>2.0</td>\n",
       "      <td>1.2</td>\n",
       "      <td>1.4</td>\n",
       "      <td>1</td>\n",
       "    </tr>\n",
       "    <tr>\n",
       "      <th>1</th>\n",
       "      <td>1.0</td>\n",
       "      <td>1.0</td>\n",
       "      <td>1.0</td>\n",
       "      <td>1.00</td>\n",
       "      <td>1.00</td>\n",
       "      <td>1.0</td>\n",
       "      <td>1.0</td>\n",
       "      <td>1.0</td>\n",
       "      <td>1.0</td>\n",
       "      <td>1.0</td>\n",
       "      <td>0</td>\n",
       "    </tr>\n",
       "    <tr>\n",
       "      <th>2</th>\n",
       "      <td>415.0</td>\n",
       "      <td>59.0</td>\n",
       "      <td>1159.0</td>\n",
       "      <td>0.01</td>\n",
       "      <td>103.53</td>\n",
       "      <td>359.0</td>\n",
       "      <td>35.0</td>\n",
       "      <td>9.0</td>\n",
       "      <td>106.0</td>\n",
       "      <td>106.0</td>\n",
       "      <td>0</td>\n",
       "    </tr>\n",
       "    <tr>\n",
       "      <th>3</th>\n",
       "      <td>230.0</td>\n",
       "      <td>33.0</td>\n",
       "      <td>575.0</td>\n",
       "      <td>0.03</td>\n",
       "      <td>39.82</td>\n",
       "      <td>174.0</td>\n",
       "      <td>15.0</td>\n",
       "      <td>34.0</td>\n",
       "      <td>67.0</td>\n",
       "      <td>65.0</td>\n",
       "      <td>0</td>\n",
       "    </tr>\n",
       "    <tr>\n",
       "      <th>4</th>\n",
       "      <td>175.0</td>\n",
       "      <td>26.0</td>\n",
       "      <td>500.0</td>\n",
       "      <td>0.03</td>\n",
       "      <td>29.48</td>\n",
       "      <td>142.0</td>\n",
       "      <td>7.0</td>\n",
       "      <td>19.0</td>\n",
       "      <td>58.0</td>\n",
       "      <td>51.0</td>\n",
       "      <td>0</td>\n",
       "    </tr>\n",
       "  </tbody>\n",
       "</table>\n",
       "</div>"
      ],
      "text/plain": [
       "     loc   v_g       n     l       d  lOCode  lOComment  lOBlank  uniq_Opnd  \\\n",
       "0    1.1   1.4     1.3  1.30    1.30     2.0        2.0      2.0        1.2   \n",
       "1    1.0   1.0     1.0  1.00    1.00     1.0        1.0      1.0        1.0   \n",
       "2  415.0  59.0  1159.0  0.01  103.53   359.0       35.0      9.0      106.0   \n",
       "3  230.0  33.0   575.0  0.03   39.82   174.0       15.0     34.0       67.0   \n",
       "4  175.0  26.0   500.0  0.03   29.48   142.0        7.0     19.0       58.0   \n",
       "\n",
       "   branchCount problems  \n",
       "0          1.4        1  \n",
       "1          1.0        0  \n",
       "2        106.0        0  \n",
       "3         65.0        0  \n",
       "4         51.0        0  "
      ]
     },
     "execution_count": 10,
     "metadata": {},
     "output_type": "execute_result"
    }
   ],
   "source": [
    "for i in range(21):\n",
    "    if selected[i] == False:\n",
    "        df = df.drop([columns_names[i]], axis = 'columns')\n",
    "        \n",
    "df.head()"
   ]
  },
  {
   "cell_type": "code",
   "execution_count": 11,
   "id": "5a40f1af",
   "metadata": {},
   "outputs": [
    {
     "data": {
      "text/html": [
       "<div>\n",
       "<style scoped>\n",
       "    .dataframe tbody tr th:only-of-type {\n",
       "        vertical-align: middle;\n",
       "    }\n",
       "\n",
       "    .dataframe tbody tr th {\n",
       "        vertical-align: top;\n",
       "    }\n",
       "\n",
       "    .dataframe thead th {\n",
       "        text-align: right;\n",
       "    }\n",
       "</style>\n",
       "<table border=\"1\" class=\"dataframe\">\n",
       "  <thead>\n",
       "    <tr style=\"text-align: right;\">\n",
       "      <th></th>\n",
       "      <th>loc</th>\n",
       "      <th>v_g</th>\n",
       "      <th>n</th>\n",
       "      <th>l</th>\n",
       "      <th>d</th>\n",
       "      <th>lOCode</th>\n",
       "      <th>lOComment</th>\n",
       "      <th>lOBlank</th>\n",
       "      <th>uniq_Opnd</th>\n",
       "      <th>branchCount</th>\n",
       "    </tr>\n",
       "  </thead>\n",
       "  <tbody>\n",
       "    <tr>\n",
       "      <th>0</th>\n",
       "      <td>1.1</td>\n",
       "      <td>1.4</td>\n",
       "      <td>1.3</td>\n",
       "      <td>1.30</td>\n",
       "      <td>1.30</td>\n",
       "      <td>2.0</td>\n",
       "      <td>2.0</td>\n",
       "      <td>2.0</td>\n",
       "      <td>1.2</td>\n",
       "      <td>1.4</td>\n",
       "    </tr>\n",
       "    <tr>\n",
       "      <th>1</th>\n",
       "      <td>1.0</td>\n",
       "      <td>1.0</td>\n",
       "      <td>1.0</td>\n",
       "      <td>1.00</td>\n",
       "      <td>1.00</td>\n",
       "      <td>1.0</td>\n",
       "      <td>1.0</td>\n",
       "      <td>1.0</td>\n",
       "      <td>1.0</td>\n",
       "      <td>1.0</td>\n",
       "    </tr>\n",
       "    <tr>\n",
       "      <th>2</th>\n",
       "      <td>415.0</td>\n",
       "      <td>59.0</td>\n",
       "      <td>1159.0</td>\n",
       "      <td>0.01</td>\n",
       "      <td>103.53</td>\n",
       "      <td>359.0</td>\n",
       "      <td>35.0</td>\n",
       "      <td>9.0</td>\n",
       "      <td>106.0</td>\n",
       "      <td>106.0</td>\n",
       "    </tr>\n",
       "    <tr>\n",
       "      <th>3</th>\n",
       "      <td>230.0</td>\n",
       "      <td>33.0</td>\n",
       "      <td>575.0</td>\n",
       "      <td>0.03</td>\n",
       "      <td>39.82</td>\n",
       "      <td>174.0</td>\n",
       "      <td>15.0</td>\n",
       "      <td>34.0</td>\n",
       "      <td>67.0</td>\n",
       "      <td>65.0</td>\n",
       "    </tr>\n",
       "    <tr>\n",
       "      <th>4</th>\n",
       "      <td>175.0</td>\n",
       "      <td>26.0</td>\n",
       "      <td>500.0</td>\n",
       "      <td>0.03</td>\n",
       "      <td>29.48</td>\n",
       "      <td>142.0</td>\n",
       "      <td>7.0</td>\n",
       "      <td>19.0</td>\n",
       "      <td>58.0</td>\n",
       "      <td>51.0</td>\n",
       "    </tr>\n",
       "  </tbody>\n",
       "</table>\n",
       "</div>"
      ],
      "text/plain": [
       "     loc   v_g       n     l       d  lOCode  lOComment  lOBlank  uniq_Opnd  \\\n",
       "0    1.1   1.4     1.3  1.30    1.30     2.0        2.0      2.0        1.2   \n",
       "1    1.0   1.0     1.0  1.00    1.00     1.0        1.0      1.0        1.0   \n",
       "2  415.0  59.0  1159.0  0.01  103.53   359.0       35.0      9.0      106.0   \n",
       "3  230.0  33.0   575.0  0.03   39.82   174.0       15.0     34.0       67.0   \n",
       "4  175.0  26.0   500.0  0.03   29.48   142.0        7.0     19.0       58.0   \n",
       "\n",
       "   branchCount  \n",
       "0          1.4  \n",
       "1          1.0  \n",
       "2        106.0  \n",
       "3         65.0  \n",
       "4         51.0  "
      ]
     },
     "execution_count": 11,
     "metadata": {},
     "output_type": "execute_result"
    }
   ],
   "source": [
    "x = df.drop(['problems'],axis = 'columns')\n",
    "x.head()"
   ]
  },
  {
   "cell_type": "code",
   "execution_count": 12,
   "id": "ca0aca92",
   "metadata": {},
   "outputs": [
    {
     "data": {
      "text/plain": [
       "array([0, 0, 1, 0, 0])"
      ]
     },
     "execution_count": 12,
     "metadata": {},
     "output_type": "execute_result"
    }
   ],
   "source": [
    "from sklearn.cluster import KMeans\n",
    "\n",
    "kmeans_model = KMeans(n_clusters = 2)\n",
    "kmeans_model.fit(x)\n",
    "\n",
    "kmeans_prediction = kmeans_model.predict(x)\n",
    "x['cluster'] = kmeans_prediction\n",
    "\n",
    "kmeans_prediction[:5]"
   ]
  },
  {
   "cell_type": "code",
   "execution_count": 13,
   "id": "b100b723",
   "metadata": {},
   "outputs": [],
   "source": [
    "def ASFM(DataFrame):\n",
    "    SFM = 0\n",
    "    \n",
    "    x,y = DataFrame.shape\n",
    "    \n",
    "    for i in range(x):\n",
    "        for j in range(y-1):\n",
    "            SFM += DataFrame.iloc[i,j]\n",
    "    \n",
    "    return SFM/x"
   ]
  },
  {
   "cell_type": "code",
   "execution_count": 14,
   "id": "17fe3cde",
   "metadata": {},
   "outputs": [],
   "source": [
    "df0 = x[x.cluster==0]\n",
    "df1 = x[x.cluster==1]"
   ]
  },
  {
   "cell_type": "code",
   "execution_count": 15,
   "id": "89c5f7fb",
   "metadata": {},
   "outputs": [
    {
     "name": "stdout",
     "output_type": "stream",
     "text": [
      "ASFM0 : 174.1787837837834\n",
      "ASFM1 : 4035.9700000000003\n"
     ]
    }
   ],
   "source": [
    "ASFM0 = ASFM(df0)\n",
    "ASFM1 = ASFM(df1)\n",
    "\n",
    "print(f\"ASFM0 : {ASFM0}\")\n",
    "print(f\"ASFM1 : {ASFM1}\")"
   ]
  },
  {
   "cell_type": "code",
   "execution_count": 16,
   "id": "57f6fcb2",
   "metadata": {},
   "outputs": [],
   "source": [
    "#ASFM0 value is greater than ASFM1, so label 0 will represent defected software and 1 represents non-defected \n",
    "#software\n",
    "\n",
    "\n",
    "\n",
    "TP = 0\n",
    "FN = 0\n",
    "TN = 0\n",
    "FP = 0\n",
    "\n",
    "n,m = df.shape\n",
    "\n",
    "for i in range(n):\n",
    "    \n",
    "    defect = df.iloc[i,m-1]\n",
    "    buggy = 0\n",
    "    clean = 1\n",
    "    \n",
    "    if defect == buggy and kmeans_prediction[i]==1:\n",
    "        TP += 1\n",
    "    elif defect == buggy and kmeans_prediction[i]==0:\n",
    "        FN += 1\n",
    "    elif defect == clean and kmeans_prediction[i]==0:\n",
    "        TN += 1\n",
    "    else:\n",
    "        FP += 1"
   ]
  },
  {
   "cell_type": "code",
   "execution_count": 17,
   "id": "6ab48627",
   "metadata": {},
   "outputs": [
    {
     "name": "stdout",
     "output_type": "stream",
     "text": [
      "MCC : 0.17306022949815822\n",
      "Accuracy : 0.8026819923371648\n",
      "precison : 1.0\n",
      "Recall : 0.037383177570093455\n",
      "F1-Score : 0.07207207207207207\n"
     ]
    }
   ],
   "source": [
    "#Matthew Correlation Coefficient\n",
    "\n",
    "MCC = (TP*TN-FP*FN)/math.sqrt((TP+FP)*(TP+FN)*(TN+FP)*(TN+FN))\n",
    "accuracy = (TP+TN)/len(df)\n",
    "precision = TP/(TP+FP)\n",
    "recall = TP/(TP+FN)\n",
    "#F1-Score\n",
    "F = 2*(precision*recall)/(precision+recall)\n",
    "\n",
    "print(f\"MCC : {MCC}\")\n",
    "print(f\"Accuracy : {accuracy}\")\n",
    "print(f\"precison : {precision}\")\n",
    "print(f\"Recall : {recall}\")\n",
    "print(f\"F1-Score : {F}\")"
   ]
  },
  {
   "cell_type": "markdown",
   "id": "adb5a1e8",
   "metadata": {},
   "source": [
    "# mbm"
   ]
  },
  {
   "cell_type": "code",
   "execution_count": null,
   "id": "6ac2718e",
   "metadata": {},
   "outputs": [],
   "source": []
  },
  {
   "cell_type": "code",
   "execution_count": 18,
   "id": "e4d715be",
   "metadata": {},
   "outputs": [
    {
     "name": "stderr",
     "output_type": "stream",
     "text": [
      "C:\\Users\\Hp\\anaconda3\\lib\\site-packages\\sklearn\\cluster\\_kmeans.py:1043: UserWarning: MiniBatchKMeans is known to have a memory leak on Windows with MKL, when there are less chunks than available threads. You can prevent it by setting batch_size >= 2048 or by setting the environment variable OMP_NUM_THREADS=3\n",
      "  warnings.warn(\n"
     ]
    },
    {
     "data": {
      "text/plain": [
       "array([1, 1, 0, 0, 0])"
      ]
     },
     "execution_count": 18,
     "metadata": {},
     "output_type": "execute_result"
    }
   ],
   "source": [
    "from sklearn.cluster import MiniBatchKMeans\n",
    "\n",
    "miniBatchKmeans_model = MiniBatchKMeans(n_clusters = 2)\n",
    "\n",
    "x = x.drop(['cluster'],axis = 'columns')\n",
    "miniBatchKmeans_model.fit(x)\n",
    "miniBatchKmeans_prediction = miniBatchKmeans_model.labels_\n",
    "x['cluster'] = miniBatchKmeans_prediction\n",
    "\n",
    "miniBatchKmeans_prediction[:5]"
   ]
  },
  {
   "cell_type": "code",
   "execution_count": 19,
   "id": "4d2022ce",
   "metadata": {},
   "outputs": [
    {
     "name": "stdout",
     "output_type": "stream",
     "text": [
      "ASFM0 : 800.1373493975907\n",
      "ASFM1 : 91.0184282460136\n"
     ]
    }
   ],
   "source": [
    "df0 = x[x.cluster==0]\n",
    "df1 = x[x.cluster==1]\n",
    "\n",
    "ASFM0 = ASFM(df0)\n",
    "ASFM1 = ASFM(df1)\n",
    "\n",
    "print(f\"ASFM0 : {ASFM0}\")\n",
    "print(f\"ASFM1 : {ASFM1}\")"
   ]
  },
  {
   "cell_type": "code",
   "execution_count": 20,
   "id": "23238733",
   "metadata": {},
   "outputs": [],
   "source": [
    "#ASFM1 value is greater than ASFM0, so label 1 will represent defected software and 0 represents non-defected \n",
    "#software\n",
    "\n",
    "\n",
    "\n",
    "TP = 0\n",
    "FN = 0\n",
    "TN = 0\n",
    "FP = 0\n",
    "\n",
    "n,m = df.shape\n",
    "\n",
    "\n",
    "for i in range(n):\n",
    "    \n",
    "    defect = df.iloc[i,m-1]\n",
    "    buggy = 0\n",
    "    clean = 1\n",
    "    \n",
    "    if defect == buggy and miniBatchKmeans_prediction[i]==0:\n",
    "        TP += 1\n",
    "    elif defect == buggy and miniBatchKmeans_prediction[i]==1:\n",
    "        FN += 1\n",
    "    elif defect == clean and miniBatchKmeans_prediction[i]==1:\n",
    "        TN += 1\n",
    "    else:\n",
    "        FP += 1"
   ]
  },
  {
   "cell_type": "code",
   "execution_count": 21,
   "id": "09a39e4f",
   "metadata": {},
   "outputs": [
    {
     "name": "stdout",
     "output_type": "stream",
     "text": [
      "MCC : 0.45403034063097303\n",
      "Accuracy : 0.8352490421455939\n",
      "precison : 0.6265060240963856\n",
      "Recall : 0.48598130841121495\n",
      "F1-Score : 0.5473684210526315\n"
     ]
    }
   ],
   "source": [
    "#Matthew Correlation Coefficient\n",
    "\n",
    "MCC = (TP*TN-FP*FN)/math.sqrt((TP+FP)*(TP+FN)*(TN+FP)*(TN+FN))\n",
    "accuracy = (TP+TN)/len(df)\n",
    "precision = TP/(TP+FP)\n",
    "recall = TP/(TP+FN)\n",
    "#F1-Score\n",
    "F = 2*(precision*recall)/(precision+recall)\n",
    "\n",
    "print(f\"MCC : {MCC}\")\n",
    "print(f\"Accuracy : {accuracy}\")\n",
    "print(f\"precison : {precision}\")\n",
    "print(f\"Recall : {recall}\")\n",
    "print(f\"F1-Score : {F}\")"
   ]
  },
  {
   "cell_type": "code",
   "execution_count": null,
   "id": "e407853b",
   "metadata": {},
   "outputs": [],
   "source": []
  },
  {
   "cell_type": "markdown",
   "id": "b020d9fb",
   "metadata": {},
   "source": [
    "# ahc"
   ]
  },
  {
   "cell_type": "code",
   "execution_count": null,
   "id": "64e663b8",
   "metadata": {},
   "outputs": [],
   "source": []
  },
  {
   "cell_type": "code",
   "execution_count": 27,
   "id": "3ccdf97c",
   "metadata": {},
   "outputs": [
    {
     "data": {
      "text/plain": [
       "array([1, 1, 0, 1, 1], dtype=int64)"
      ]
     },
     "execution_count": 27,
     "metadata": {},
     "output_type": "execute_result"
    }
   ],
   "source": [
    "from sklearn.cluster import AgglomerativeClustering\n",
    "\n",
    "ag_model = AgglomerativeClustering(n_clusters = 2)\n",
    "\n",
    "x = x.drop(['cluster'],axis = 'columns')\n",
    "ag_model.fit(x)\n",
    "ag_prediction = ag_model.labels_\n",
    "x['cluster'] = ag_prediction\n",
    "\n",
    "ag_prediction[:5]"
   ]
  },
  {
   "cell_type": "code",
   "execution_count": 28,
   "id": "c8dd66df",
   "metadata": {},
   "outputs": [],
   "source": [
    "df0 = x[x.cluster==0]\n",
    "df1 = x[x.cluster==1]"
   ]
  },
  {
   "cell_type": "code",
   "execution_count": 29,
   "id": "1fd6f219",
   "metadata": {},
   "outputs": [
    {
     "name": "stdout",
     "output_type": "stream",
     "text": [
      "ASFM0 : 4035.9700000000003\n",
      "ASFM1 : 174.1787837837834\n"
     ]
    }
   ],
   "source": [
    "ASFM0 = ASFM(df0)\n",
    "ASFM1 = ASFM(df1)\n",
    "\n",
    "print(f\"ASFM0 : {ASFM0}\")\n",
    "print(f\"ASFM1 : {ASFM1}\")"
   ]
  },
  {
   "cell_type": "code",
   "execution_count": 30,
   "id": "4973b2f4",
   "metadata": {},
   "outputs": [],
   "source": [
    "#ASFM0 value is greater than ASFM1, so label 0 will represent defected software and 1 represents non-defected \n",
    "#software\n",
    "\n",
    "\n",
    "\n",
    "TP = 0\n",
    "FN = 0\n",
    "TN = 0\n",
    "FP = 0\n",
    "\n",
    "n,m = df.shape\n",
    "\n",
    "\n",
    "for i in range(n):\n",
    "    \n",
    "    defect = df.iloc[i,m-1]\n",
    "    buggy = 0\n",
    "    clean = 1\n",
    "    \n",
    "    if defect == buggy and ag_prediction[i]==0:\n",
    "        TP += 1\n",
    "    elif defect == buggy and ag_prediction[i]==1:\n",
    "        FN += 1\n",
    "    elif defect == clean and ag_prediction[i]==1:\n",
    "        TN += 1\n",
    "    else:\n",
    "        FP += 1"
   ]
  },
  {
   "cell_type": "code",
   "execution_count": 31,
   "id": "77f0a8f1",
   "metadata": {},
   "outputs": [
    {
     "name": "stdout",
     "output_type": "stream",
     "text": [
      "MCC : 0.17306022949815822\n",
      "Accuracy : 0.8026819923371648\n",
      "precison : 1.0\n",
      "Recall : 0.037383177570093455\n",
      "F1-Score : 0.07207207207207207\n"
     ]
    }
   ],
   "source": [
    "#Matthew Correlation Coefficient\n",
    "\n",
    "MCC = (TP*TN-FP*FN)/math.sqrt((TP+FP)*(TP+FN)*(TN+FP)*(TN+FN))\n",
    "accuracy = (TP+TN)/len(df)\n",
    "precision = TP/(TP+FP)\n",
    "recall = TP/(TP+FN)\n",
    "#F1-Score\n",
    "F = 2*(precision*recall)/(precision+recall)\n",
    "\n",
    "print(f\"MCC : {MCC}\")\n",
    "print(f\"Accuracy : {accuracy}\")\n",
    "print(f\"precison : {precision}\")\n",
    "print(f\"Recall : {recall}\")\n",
    "print(f\"F1-Score : {F}\")"
   ]
  },
  {
   "cell_type": "code",
   "execution_count": null,
   "id": "a29cb913",
   "metadata": {},
   "outputs": [],
   "source": []
  },
  {
   "cell_type": "markdown",
   "id": "992caeff",
   "metadata": {},
   "source": [
    "# birch"
   ]
  },
  {
   "cell_type": "code",
   "execution_count": null,
   "id": "e7c4fc98",
   "metadata": {},
   "outputs": [],
   "source": []
  },
  {
   "cell_type": "code",
   "execution_count": 32,
   "id": "3f02ec7e",
   "metadata": {},
   "outputs": [
    {
     "data": {
      "text/plain": [
       "array([1, 1, 0, 1, 1], dtype=int64)"
      ]
     },
     "execution_count": 32,
     "metadata": {},
     "output_type": "execute_result"
    }
   ],
   "source": [
    "from sklearn.cluster import Birch\n",
    "\n",
    "birch_model = Birch(threshold=0.01, n_clusters=2)\n",
    "\n",
    "x = x.drop(['cluster'],axis = 'columns')\n",
    "birch_model.fit(x)\n",
    "birch_prediction = birch_model.labels_\n",
    "x['cluster'] = birch_prediction\n",
    "\n",
    "birch_prediction[:5]"
   ]
  },
  {
   "cell_type": "code",
   "execution_count": 33,
   "id": "d1565581",
   "metadata": {},
   "outputs": [
    {
     "name": "stdout",
     "output_type": "stream",
     "text": [
      "ASFM0 : 4035.9700000000003\n",
      "ASFM1 : 174.1787837837834\n"
     ]
    }
   ],
   "source": [
    "df0 = x[x.cluster==0]\n",
    "df1 = x[x.cluster==1]\n",
    "\n",
    "ASFM0 = ASFM(df0)\n",
    "ASFM1 = ASFM(df1)\n",
    "\n",
    "print(f\"ASFM0 : {ASFM0}\")\n",
    "print(f\"ASFM1 : {ASFM1}\")"
   ]
  },
  {
   "cell_type": "code",
   "execution_count": 34,
   "id": "b9298d71",
   "metadata": {},
   "outputs": [],
   "source": [
    "#ASFM0 value is greater than ASFM1, so label 0 will represent defected software and 1 represents non-defected \n",
    "#software\n",
    "\n",
    "\n",
    "\n",
    "TP = 0\n",
    "FN = 0\n",
    "TN = 0\n",
    "FP = 0\n",
    "\n",
    "n,m = df.shape\n",
    "\n",
    "\n",
    "for i in range(n):\n",
    "    \n",
    "    defect = df.iloc[i,m-1]\n",
    "    buggy = 0\n",
    "    clean = 1\n",
    "    \n",
    "    if defect == buggy and birch_prediction[i]==0:\n",
    "        TP += 1\n",
    "    elif defect == buggy and birch_prediction[i]==1:\n",
    "        FN += 1\n",
    "    elif defect == clean and birch_prediction[i]==1:\n",
    "        TN += 1\n",
    "    else:\n",
    "        FP += 1"
   ]
  },
  {
   "cell_type": "code",
   "execution_count": 35,
   "id": "ae1b92da",
   "metadata": {},
   "outputs": [
    {
     "name": "stdout",
     "output_type": "stream",
     "text": [
      "MCC : 0.17306022949815822\n",
      "Accuracy : 0.8026819923371648\n",
      "precison : 1.0\n",
      "Recall : 0.037383177570093455\n",
      "F1-Score : 0.07207207207207207\n"
     ]
    }
   ],
   "source": [
    "#Matthew Correlation Coefficient\n",
    "\n",
    "MCC = (TP*TN-FP*FN)/math.sqrt((TP+FP)*(TP+FN)*(TN+FP)*(TN+FN))\n",
    "accuracy = (TP+TN)/len(df)\n",
    "precision = TP/(TP+FP)\n",
    "recall = TP/(TP+FN)\n",
    "#F1-Score\n",
    "F = 2*(precision*recall)/(precision+recall)\n",
    "\n",
    "print(f\"MCC : {MCC}\")\n",
    "print(f\"Accuracy : {accuracy}\")\n",
    "print(f\"precison : {precision}\")\n",
    "print(f\"Recall : {recall}\")\n",
    "print(f\"F1-Score : {F}\")"
   ]
  },
  {
   "cell_type": "code",
   "execution_count": null,
   "id": "c7d0d92f",
   "metadata": {},
   "outputs": [],
   "source": []
  },
  {
   "cell_type": "markdown",
   "id": "e44529f5",
   "metadata": {},
   "source": [
    "# sc"
   ]
  },
  {
   "cell_type": "code",
   "execution_count": null,
   "id": "51fd4327",
   "metadata": {},
   "outputs": [],
   "source": []
  },
  {
   "cell_type": "code",
   "execution_count": 36,
   "id": "5ce0933e",
   "metadata": {},
   "outputs": [
    {
     "name": "stderr",
     "output_type": "stream",
     "text": [
      "C:\\Users\\Hp\\anaconda3\\lib\\site-packages\\sklearn\\manifold\\_spectral_embedding.py:260: UserWarning: Graph is not fully connected, spectral embedding may not work as expected.\n",
      "  warnings.warn(\n"
     ]
    },
    {
     "data": {
      "text/plain": [
       "array([0, 0, 0, 0, 0])"
      ]
     },
     "execution_count": 36,
     "metadata": {},
     "output_type": "execute_result"
    }
   ],
   "source": [
    "from sklearn.cluster import SpectralClustering\n",
    "\n",
    "SC_model = SpectralClustering(n_clusters = 2)\n",
    "\n",
    "x = x.drop(['cluster'],axis = 'columns')\n",
    "SC_model.fit(x)\n",
    "\n",
    "SC_prediction = SC_model.labels_\n",
    "x['cluster'] = SC_prediction\n",
    "\n",
    "SC_prediction[:5]"
   ]
  },
  {
   "cell_type": "code",
   "execution_count": 37,
   "id": "afd25b17",
   "metadata": {},
   "outputs": [],
   "source": [
    "df0 = x[x.cluster==0]\n",
    "df1 = x[x.cluster==1]"
   ]
  },
  {
   "cell_type": "code",
   "execution_count": 38,
   "id": "a5e9ace0",
   "metadata": {},
   "outputs": [
    {
     "name": "stdout",
     "output_type": "stream",
     "text": [
      "ASFM0 : 203.73347408829136\n",
      "ASFM1 : 223.35000000000002\n"
     ]
    }
   ],
   "source": [
    "ASFM0 = ASFM(df0)\n",
    "ASFM1 = ASFM(df1)\n",
    "\n",
    "print(f\"ASFM0 : {ASFM0}\")\n",
    "print(f\"ASFM1 : {ASFM1}\")"
   ]
  },
  {
   "cell_type": "code",
   "execution_count": 39,
   "id": "a3df3b85",
   "metadata": {},
   "outputs": [],
   "source": [
    "#ASFM1 value is greater than ASFM0, so label 1 will represent defected software and 0 represents non-defected \n",
    "#software\n",
    "\n",
    "\n",
    "\n",
    "TP = 0\n",
    "FN = 0\n",
    "TN = 0\n",
    "FP = 0\n",
    "\n",
    "n,m = df.shape\n",
    "\n",
    "\n",
    "for i in range(n):\n",
    "    \n",
    "    defect = df.iloc[i,m-1]\n",
    "    buggy = 0\n",
    "    clean = 1\n",
    "    \n",
    "    if defect == buggy and SC_prediction[i]==1:\n",
    "        TP += 1\n",
    "    elif defect == buggy and SC_prediction[i]==0:\n",
    "        FN += 1\n",
    "    elif defect == clean and SC_prediction[i]==0:\n",
    "        TN += 1\n",
    "    else:\n",
    "        FP += 1"
   ]
  },
  {
   "cell_type": "code",
   "execution_count": 40,
   "id": "7b53c115",
   "metadata": {},
   "outputs": [
    {
     "ename": "ZeroDivisionError",
     "evalue": "float division by zero",
     "output_type": "error",
     "traceback": [
      "\u001b[1;31m---------------------------------------------------------------------------\u001b[0m",
      "\u001b[1;31mZeroDivisionError\u001b[0m                         Traceback (most recent call last)",
      "\u001b[1;32m~\\AppData\\Local\\Temp/ipykernel_7128/535044490.py\u001b[0m in \u001b[0;36m<module>\u001b[1;34m\u001b[0m\n\u001b[0;32m      6\u001b[0m \u001b[0mrecall\u001b[0m \u001b[1;33m=\u001b[0m \u001b[0mTP\u001b[0m\u001b[1;33m/\u001b[0m\u001b[1;33m(\u001b[0m\u001b[0mTP\u001b[0m\u001b[1;33m+\u001b[0m\u001b[0mFN\u001b[0m\u001b[1;33m)\u001b[0m\u001b[1;33m\u001b[0m\u001b[1;33m\u001b[0m\u001b[0m\n\u001b[0;32m      7\u001b[0m \u001b[1;31m#F1-Score\u001b[0m\u001b[1;33m\u001b[0m\u001b[1;33m\u001b[0m\u001b[0m\n\u001b[1;32m----> 8\u001b[1;33m \u001b[0mF\u001b[0m \u001b[1;33m=\u001b[0m \u001b[1;36m2\u001b[0m\u001b[1;33m*\u001b[0m\u001b[1;33m(\u001b[0m\u001b[0mprecision\u001b[0m\u001b[1;33m*\u001b[0m\u001b[0mrecall\u001b[0m\u001b[1;33m)\u001b[0m\u001b[1;33m/\u001b[0m\u001b[1;33m(\u001b[0m\u001b[0mprecision\u001b[0m\u001b[1;33m+\u001b[0m\u001b[0mrecall\u001b[0m\u001b[1;33m)\u001b[0m\u001b[1;33m\u001b[0m\u001b[1;33m\u001b[0m\u001b[0m\n\u001b[0m\u001b[0;32m      9\u001b[0m \u001b[1;33m\u001b[0m\u001b[0m\n\u001b[0;32m     10\u001b[0m \u001b[0mprint\u001b[0m\u001b[1;33m(\u001b[0m\u001b[1;34mf\"MCC : {MCC}\"\u001b[0m\u001b[1;33m)\u001b[0m\u001b[1;33m\u001b[0m\u001b[1;33m\u001b[0m\u001b[0m\n",
      "\u001b[1;31mZeroDivisionError\u001b[0m: float division by zero"
     ]
    }
   ],
   "source": [
    "#Matthew Correlation Coefficient\n",
    "\n",
    "MCC = (TP*TN-FP*FN)/math.sqrt((TP+FP)*(TP+FN)*(TN+FP)*(TN+FN))\n",
    "accuracy = (TP+TN)/len(df)\n",
    "precision = TP/(TP+FP)\n",
    "recall = TP/(TP+FN)\n",
    "#F1-Score\n",
    "F = 2*(precision*recall)/(precision+recall)\n",
    "\n",
    "print(f\"MCC : {MCC}\")\n",
    "print(f\"Accuracy : {accuracy}\")\n",
    "print(f\"precison : {precision}\")\n",
    "print(f\"Recall : {recall}\")\n",
    "print(f\"F1-Score : {F}\")"
   ]
  },
  {
   "cell_type": "code",
   "execution_count": null,
   "id": "86657ed9",
   "metadata": {},
   "outputs": [],
   "source": []
  },
  {
   "cell_type": "markdown",
   "id": "02dd9cc2",
   "metadata": {},
   "source": [
    "# guassian"
   ]
  },
  {
   "cell_type": "code",
   "execution_count": null,
   "id": "8d45f130",
   "metadata": {},
   "outputs": [],
   "source": []
  },
  {
   "cell_type": "code",
   "execution_count": 41,
   "id": "dccac3cb",
   "metadata": {},
   "outputs": [
    {
     "data": {
      "text/plain": [
       "array([0, 0, 1, 0, 0], dtype=int64)"
      ]
     },
     "execution_count": 41,
     "metadata": {},
     "output_type": "execute_result"
    }
   ],
   "source": [
    "from sklearn.mixture import GaussianMixture\n",
    "\n",
    "gm_model = GaussianMixture(n_components = 2)\n",
    "\n",
    "x = x.drop(['cluster'],axis = 'columns')\n",
    "gm_model.fit(x)\n",
    "gm_prediction = gm_model.predict(x)\n",
    "x['cluster'] = gm_prediction\n",
    "\n",
    "gm_prediction[:5]"
   ]
  },
  {
   "cell_type": "code",
   "execution_count": 42,
   "id": "65c17e13",
   "metadata": {},
   "outputs": [],
   "source": [
    "df0 = x[x.cluster==0]\n",
    "df1 = x[x.cluster==1]"
   ]
  },
  {
   "cell_type": "code",
   "execution_count": 43,
   "id": "568a4a21",
   "metadata": {},
   "outputs": [
    {
     "name": "stdout",
     "output_type": "stream",
     "text": [
      "ASFM0 : 174.1787837837834\n",
      "ASFM1 : 4035.9700000000003\n"
     ]
    }
   ],
   "source": [
    "ASFM0 = ASFM(df0)\n",
    "ASFM1 = ASFM(df1)\n",
    "\n",
    "print(f\"ASFM0 : {ASFM0}\")\n",
    "print(f\"ASFM1 : {ASFM1}\")"
   ]
  },
  {
   "cell_type": "code",
   "execution_count": 44,
   "id": "cd3449de",
   "metadata": {},
   "outputs": [],
   "source": [
    "#ASFM1 value is greater than ASFM0, so label 1 will represent defected software and 0 represents non-defected \n",
    "#software\n",
    "\n",
    "\n",
    "\n",
    "TP = 0\n",
    "FN = 0\n",
    "TN = 0\n",
    "FP = 0\n",
    "\n",
    "n,m = df.shape\n",
    "\n",
    "\n",
    "for i in range(n):\n",
    "    \n",
    "    defect = df.iloc[i,m-1]\n",
    "    buggy = 0\n",
    "    clean = 1\n",
    "    \n",
    "    if defect == buggy and gm_prediction[i]==1:\n",
    "        TP += 1\n",
    "    elif defect == buggy and gm_prediction[i]==0:\n",
    "        FN += 1\n",
    "    elif defect == clean and gm_prediction[i]==0:\n",
    "        TN += 1\n",
    "    else:\n",
    "        FP += 1"
   ]
  },
  {
   "cell_type": "code",
   "execution_count": 45,
   "id": "566511ad",
   "metadata": {},
   "outputs": [
    {
     "name": "stdout",
     "output_type": "stream",
     "text": [
      "MCC : 0.17306022949815822\n",
      "Accuracy : 0.8026819923371648\n",
      "precison : 1.0\n",
      "Recall : 0.037383177570093455\n",
      "F1-Score : 0.07207207207207207\n"
     ]
    }
   ],
   "source": [
    "#Matthew Correlation Coefficient\n",
    "\n",
    "MCC = (TP*TN-FP*FN)/math.sqrt((TP+FP)*(TP+FN)*(TN+FP)*(TN+FN))\n",
    "accuracy = (TP+TN)/len(df)\n",
    "precision = TP/(TP+FP)\n",
    "recall = TP/(TP+FN)\n",
    "#F1-Score\n",
    "F = 2*(precision*recall)/(precision+recall)\n",
    "\n",
    "print(f\"MCC : {MCC}\")\n",
    "print(f\"Accuracy : {accuracy}\")\n",
    "print(f\"precison : {precision}\")\n",
    "print(f\"Recall : {recall}\")\n",
    "print(f\"F1-Score : {F}\")"
   ]
  },
  {
   "cell_type": "code",
   "execution_count": null,
   "id": "0c026ca3",
   "metadata": {},
   "outputs": [],
   "source": []
  }
 ],
 "metadata": {
  "kernelspec": {
   "display_name": "Python 3 (ipykernel)",
   "language": "python",
   "name": "python3"
  },
  "language_info": {
   "codemirror_mode": {
    "name": "ipython",
    "version": 3
   },
   "file_extension": ".py",
   "mimetype": "text/x-python",
   "name": "python",
   "nbconvert_exporter": "python",
   "pygments_lexer": "ipython3",
   "version": "3.9.7"
  }
 },
 "nbformat": 4,
 "nbformat_minor": 5
}
