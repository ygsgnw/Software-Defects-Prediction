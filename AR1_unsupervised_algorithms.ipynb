{
 "cells": [
  {
   "cell_type": "code",
   "execution_count": 1,
   "id": "af6886aa",
   "metadata": {},
   "outputs": [],
   "source": [
    "from scipy.io import arff\n",
    "import pandas as pd\n",
    "import numpy as np\n",
    "import math\n",
    "\n",
    "from numpy import unique\n",
    "from numpy import where\n",
    "from matplotlib import pyplot\n",
    "\n",
    "data = arff.loadarff('./../DefectData/inst/extdata/terapromise/mccabe/ar1.arff') \n",
    "df = pd.DataFrame(data[0])"
   ]
  },
  {
   "cell_type": "code",
   "execution_count": 2,
   "id": "222f6d1d",
   "metadata": {},
   "outputs": [
    {
     "data": {
      "text/plain": [
       "(121, 30)"
      ]
     },
     "execution_count": 2,
     "metadata": {},
     "output_type": "execute_result"
    }
   ],
   "source": [
    "df.shape"
   ]
  },
  {
   "cell_type": "code",
   "execution_count": 3,
   "id": "1be5ec1d",
   "metadata": {},
   "outputs": [
    {
     "data": {
      "text/html": [
       "<div>\n",
       "<style scoped>\n",
       "    .dataframe tbody tr th:only-of-type {\n",
       "        vertical-align: middle;\n",
       "    }\n",
       "\n",
       "    .dataframe tbody tr th {\n",
       "        vertical-align: top;\n",
       "    }\n",
       "\n",
       "    .dataframe thead th {\n",
       "        text-align: right;\n",
       "    }\n",
       "</style>\n",
       "<table border=\"1\" class=\"dataframe\">\n",
       "  <thead>\n",
       "    <tr style=\"text-align: right;\">\n",
       "      <th></th>\n",
       "      <th>total_loc</th>\n",
       "      <th>blank_loc</th>\n",
       "      <th>comment_loc</th>\n",
       "      <th>code_and_comment_loc</th>\n",
       "      <th>executable_loc</th>\n",
       "      <th>unique_operands</th>\n",
       "      <th>unique_operators</th>\n",
       "      <th>total_operands</th>\n",
       "      <th>total_operators</th>\n",
       "      <th>halstead_vocabulary</th>\n",
       "      <th>...</th>\n",
       "      <th>condition_count</th>\n",
       "      <th>multiple_condition_count</th>\n",
       "      <th>cyclomatic_complexity</th>\n",
       "      <th>cyclomatic_density</th>\n",
       "      <th>decision_density</th>\n",
       "      <th>design_complexity</th>\n",
       "      <th>design_density</th>\n",
       "      <th>normalized_cyclomatic_complexity</th>\n",
       "      <th>formal_parameters</th>\n",
       "      <th>defects</th>\n",
       "    </tr>\n",
       "  </thead>\n",
       "  <tbody>\n",
       "    <tr>\n",
       "      <th>0</th>\n",
       "      <td>7.0</td>\n",
       "      <td>0.0</td>\n",
       "      <td>4.0</td>\n",
       "      <td>0.0</td>\n",
       "      <td>3.0</td>\n",
       "      <td>8.0</td>\n",
       "      <td>6.0</td>\n",
       "      <td>10.0</td>\n",
       "      <td>12.0</td>\n",
       "      <td>14.0</td>\n",
       "      <td>...</td>\n",
       "      <td>0.0</td>\n",
       "      <td>0.0</td>\n",
       "      <td>1.0</td>\n",
       "      <td>0.33</td>\n",
       "      <td>0.00</td>\n",
       "      <td>0.0</td>\n",
       "      <td>0.00</td>\n",
       "      <td>0.14</td>\n",
       "      <td>0.0</td>\n",
       "      <td>b'false'</td>\n",
       "    </tr>\n",
       "    <tr>\n",
       "      <th>1</th>\n",
       "      <td>9.0</td>\n",
       "      <td>0.0</td>\n",
       "      <td>1.0</td>\n",
       "      <td>0.0</td>\n",
       "      <td>8.0</td>\n",
       "      <td>7.0</td>\n",
       "      <td>8.0</td>\n",
       "      <td>15.0</td>\n",
       "      <td>20.0</td>\n",
       "      <td>15.0</td>\n",
       "      <td>...</td>\n",
       "      <td>0.0</td>\n",
       "      <td>0.0</td>\n",
       "      <td>2.0</td>\n",
       "      <td>0.25</td>\n",
       "      <td>0.00</td>\n",
       "      <td>0.0</td>\n",
       "      <td>0.00</td>\n",
       "      <td>0.22</td>\n",
       "      <td>0.0</td>\n",
       "      <td>b'false'</td>\n",
       "    </tr>\n",
       "    <tr>\n",
       "      <th>2</th>\n",
       "      <td>21.0</td>\n",
       "      <td>0.0</td>\n",
       "      <td>14.0</td>\n",
       "      <td>1.0</td>\n",
       "      <td>7.0</td>\n",
       "      <td>15.0</td>\n",
       "      <td>12.0</td>\n",
       "      <td>21.0</td>\n",
       "      <td>36.0</td>\n",
       "      <td>27.0</td>\n",
       "      <td>...</td>\n",
       "      <td>4.0</td>\n",
       "      <td>1.0</td>\n",
       "      <td>4.0</td>\n",
       "      <td>0.57</td>\n",
       "      <td>1.00</td>\n",
       "      <td>1.0</td>\n",
       "      <td>0.25</td>\n",
       "      <td>0.19</td>\n",
       "      <td>0.0</td>\n",
       "      <td>b'false'</td>\n",
       "    </tr>\n",
       "    <tr>\n",
       "      <th>3</th>\n",
       "      <td>30.0</td>\n",
       "      <td>0.0</td>\n",
       "      <td>11.0</td>\n",
       "      <td>0.0</td>\n",
       "      <td>19.0</td>\n",
       "      <td>16.0</td>\n",
       "      <td>18.0</td>\n",
       "      <td>50.0</td>\n",
       "      <td>70.0</td>\n",
       "      <td>34.0</td>\n",
       "      <td>...</td>\n",
       "      <td>9.0</td>\n",
       "      <td>2.0</td>\n",
       "      <td>9.0</td>\n",
       "      <td>0.47</td>\n",
       "      <td>1.11</td>\n",
       "      <td>1.0</td>\n",
       "      <td>0.11</td>\n",
       "      <td>0.30</td>\n",
       "      <td>0.0</td>\n",
       "      <td>b'true'</td>\n",
       "    </tr>\n",
       "    <tr>\n",
       "      <th>4</th>\n",
       "      <td>8.0</td>\n",
       "      <td>0.0</td>\n",
       "      <td>2.0</td>\n",
       "      <td>0.0</td>\n",
       "      <td>6.0</td>\n",
       "      <td>4.0</td>\n",
       "      <td>5.0</td>\n",
       "      <td>5.0</td>\n",
       "      <td>10.0</td>\n",
       "      <td>9.0</td>\n",
       "      <td>...</td>\n",
       "      <td>1.0</td>\n",
       "      <td>0.0</td>\n",
       "      <td>2.0</td>\n",
       "      <td>0.33</td>\n",
       "      <td>1.00</td>\n",
       "      <td>1.0</td>\n",
       "      <td>0.50</td>\n",
       "      <td>0.25</td>\n",
       "      <td>0.0</td>\n",
       "      <td>b'false'</td>\n",
       "    </tr>\n",
       "  </tbody>\n",
       "</table>\n",
       "<p>5 rows × 30 columns</p>\n",
       "</div>"
      ],
      "text/plain": [
       "   total_loc  blank_loc  comment_loc  code_and_comment_loc  executable_loc  \\\n",
       "0        7.0        0.0          4.0                   0.0             3.0   \n",
       "1        9.0        0.0          1.0                   0.0             8.0   \n",
       "2       21.0        0.0         14.0                   1.0             7.0   \n",
       "3       30.0        0.0         11.0                   0.0            19.0   \n",
       "4        8.0        0.0          2.0                   0.0             6.0   \n",
       "\n",
       "   unique_operands  unique_operators  total_operands  total_operators  \\\n",
       "0              8.0               6.0            10.0             12.0   \n",
       "1              7.0               8.0            15.0             20.0   \n",
       "2             15.0              12.0            21.0             36.0   \n",
       "3             16.0              18.0            50.0             70.0   \n",
       "4              4.0               5.0             5.0             10.0   \n",
       "\n",
       "   halstead_vocabulary  ...  condition_count  multiple_condition_count  \\\n",
       "0                 14.0  ...              0.0                       0.0   \n",
       "1                 15.0  ...              0.0                       0.0   \n",
       "2                 27.0  ...              4.0                       1.0   \n",
       "3                 34.0  ...              9.0                       2.0   \n",
       "4                  9.0  ...              1.0                       0.0   \n",
       "\n",
       "   cyclomatic_complexity  cyclomatic_density  decision_density  \\\n",
       "0                    1.0                0.33              0.00   \n",
       "1                    2.0                0.25              0.00   \n",
       "2                    4.0                0.57              1.00   \n",
       "3                    9.0                0.47              1.11   \n",
       "4                    2.0                0.33              1.00   \n",
       "\n",
       "   design_complexity  design_density  normalized_cyclomatic_complexity  \\\n",
       "0                0.0            0.00                              0.14   \n",
       "1                0.0            0.00                              0.22   \n",
       "2                1.0            0.25                              0.19   \n",
       "3                1.0            0.11                              0.30   \n",
       "4                1.0            0.50                              0.25   \n",
       "\n",
       "   formal_parameters   defects  \n",
       "0                0.0  b'false'  \n",
       "1                0.0  b'false'  \n",
       "2                0.0  b'false'  \n",
       "3                0.0   b'true'  \n",
       "4                0.0  b'false'  \n",
       "\n",
       "[5 rows x 30 columns]"
      ]
     },
     "execution_count": 3,
     "metadata": {},
     "output_type": "execute_result"
    }
   ],
   "source": [
    "df.head()"
   ]
  },
  {
   "cell_type": "code",
   "execution_count": 4,
   "id": "065c66e7",
   "metadata": {},
   "outputs": [
    {
     "data": {
      "text/plain": [
       "0    0\n",
       "1    0\n",
       "2    0\n",
       "3    1\n",
       "4    0\n",
       "Name: defects, dtype: int64"
      ]
     },
     "execution_count": 4,
     "metadata": {},
     "output_type": "execute_result"
    }
   ],
   "source": [
    "buggy = b'true'\n",
    "clean = b'false'\n",
    "x = df.drop(['defects'],axis = 'columns')\n",
    "\n",
    "for i in range(121):\n",
    "    if df.iloc[i,29] == buggy:\n",
    "        df.iloc[i,29] = 1\n",
    "    else:\n",
    "        df.iloc[i,29] = 0\n",
    "\n",
    "y = df['defects']\n",
    "y = y.astype(int)\n",
    "y.head()"
   ]
  },
  {
   "cell_type": "code",
   "execution_count": null,
   "id": "50c0834c",
   "metadata": {},
   "outputs": [],
   "source": []
  },
  {
   "cell_type": "code",
   "execution_count": 5,
   "id": "8017644e",
   "metadata": {},
   "outputs": [
    {
     "name": "stdout",
     "output_type": "stream",
     "text": [
      "0    112\n",
      "1    112\n",
      "Name: defects, dtype: int64\n"
     ]
    }
   ],
   "source": [
    "from imblearn.over_sampling import SMOTE\n",
    "\n",
    "smote = SMOTE(sampling_strategy = 'minority')\n",
    "x, y = smote.fit_resample(x,y)\n",
    "\n",
    "print(y.value_counts())"
   ]
  },
  {
   "cell_type": "code",
   "execution_count": 6,
   "id": "0cf4910e",
   "metadata": {},
   "outputs": [],
   "source": [
    "buggy = 1\n",
    "clean = 0"
   ]
  },
  {
   "cell_type": "code",
   "execution_count": 7,
   "id": "4f3e04ed",
   "metadata": {},
   "outputs": [
    {
     "data": {
      "text/plain": [
       "array([0, 0, 0, 0, 0], dtype=int32)"
      ]
     },
     "execution_count": 7,
     "metadata": {},
     "output_type": "execute_result"
    }
   ],
   "source": [
    "from sklearn.cluster import KMeans\n",
    "\n",
    "kmeans_model = KMeans(n_clusters = 2)\n",
    "kmeans_model.fit(x)\n",
    "\n",
    "kmeans_prediction = kmeans_model.predict(x)\n",
    "x['cluster'] = kmeans_prediction\n",
    "\n",
    "kmeans_prediction[:5]"
   ]
  },
  {
   "cell_type": "code",
   "execution_count": 8,
   "id": "258c3b28",
   "metadata": {},
   "outputs": [],
   "source": [
    "def ASFM(DataFrame):\n",
    "    SFM = 0\n",
    "    \n",
    "    x,y = DataFrame.shape\n",
    "    \n",
    "    for i in range(x):\n",
    "        for j in range(y-1):\n",
    "            SFM += DataFrame.iloc[i,j]\n",
    "    \n",
    "    return SFM/x"
   ]
  },
  {
   "cell_type": "code",
   "execution_count": 9,
   "id": "dfeb9c3c",
   "metadata": {},
   "outputs": [],
   "source": [
    "df0 = x[x.cluster==0]\n",
    "df1 = x[x.cluster==1]"
   ]
  },
  {
   "cell_type": "code",
   "execution_count": 10,
   "id": "12acf7e3",
   "metadata": {},
   "outputs": [
    {
     "name": "stdout",
     "output_type": "stream",
     "text": [
      "ASFM0 : 3541.9309168718905\n",
      "ASFM1 : 23532.830814374243\n"
     ]
    }
   ],
   "source": [
    "ASFM0 = ASFM(df0)\n",
    "ASFM1 = ASFM(df1)\n",
    "\n",
    "print(f\"ASFM0 : {ASFM0}\")\n",
    "print(f\"ASFM1 : {ASFM1}\")"
   ]
  },
  {
   "cell_type": "code",
   "execution_count": 11,
   "id": "7a912cc9",
   "metadata": {},
   "outputs": [],
   "source": [
    "#ASFM0 value is greater than ASFM1, so label 0 will represent defected software and 1 represents non-defected \n",
    "#software\n",
    "\n",
    "\n",
    "\n",
    "TP = 0\n",
    "FN = 0\n",
    "TN = 0\n",
    "FP = 0\n",
    "\n",
    "n,m = df.shape\n",
    "\n",
    "for i in range(n):\n",
    "    \n",
    "    defect = df.iloc[i,m-1]\n",
    "    \n",
    "    if defect == buggy and kmeans_prediction[i]==1:\n",
    "        TP += 1\n",
    "    elif defect == buggy and kmeans_prediction[i]==0:\n",
    "        FN += 1\n",
    "    elif defect == clean and kmeans_prediction[i]==0:\n",
    "        TN += 1\n",
    "    else:\n",
    "        FP += 1"
   ]
  },
  {
   "cell_type": "code",
   "execution_count": 12,
   "id": "90aaa5d4",
   "metadata": {},
   "outputs": [
    {
     "name": "stdout",
     "output_type": "stream",
     "text": [
      "MCC : 0.2254254980353404\n",
      "Accuracy : 0.9090909090909091\n",
      "F-Score : 0.26666666666666666\n"
     ]
    }
   ],
   "source": [
    "#Matthew Correlation Coefficient\n",
    "\n",
    "MCC = (TP*TN-FP*FN)/math.sqrt((TP+FP)*(TP+FN)*(TN+FP)*(TN+FN))\n",
    "accuracy = (TP+TN)/len(df)\n",
    "precision = TP/(TP+FP)\n",
    "recall = TP/(TP+FN)\n",
    "#F1-Score\n",
    "F = 2*(precision*recall)/(precision+recall)\n",
    "\n",
    "print(f\"MCC : {MCC}\")\n",
    "print(f\"Accuracy : {accuracy}\")\n",
    "print(f\"F-Score : {F}\")"
   ]
  },
  {
   "cell_type": "code",
   "execution_count": null,
   "id": "e225b5e5",
   "metadata": {},
   "outputs": [],
   "source": []
  },
  {
   "cell_type": "code",
   "execution_count": 161,
   "id": "f52e663e",
   "metadata": {},
   "outputs": [
    {
     "data": {
      "text/plain": [
       "array([1, 1, 1, 1, 1], dtype=int32)"
      ]
     },
     "execution_count": 161,
     "metadata": {},
     "output_type": "execute_result"
    }
   ],
   "source": [
    "from sklearn.cluster import MiniBatchKMeans\n",
    "\n",
    "miniBatchKmeans_model = MiniBatchKMeans(n_clusters = 2)\n",
    "\n",
    "x = x.drop(['cluster'],axis = 'columns')\n",
    "miniBatchKmeans_model.fit(x)\n",
    "miniBatchKmeans_prediction = miniBatchKmeans_model.labels_\n",
    "x['cluster'] = miniBatchKmeans_prediction\n",
    "\n",
    "miniBatchKmeans_prediction[:5]"
   ]
  },
  {
   "cell_type": "code",
   "execution_count": 162,
   "id": "615eb215",
   "metadata": {},
   "outputs": [
    {
     "name": "stdout",
     "output_type": "stream",
     "text": [
      "ASFM0 : 32786.260750196096\n",
      "ASFM1 : 3832.5396591691892\n"
     ]
    }
   ],
   "source": [
    "df0 = x[x.cluster==0]\n",
    "df1 = x[x.cluster==1]\n",
    "\n",
    "ASFM0 = ASFM(df0)\n",
    "ASFM1 = ASFM(df1)\n",
    "\n",
    "print(f\"ASFM0 : {ASFM0}\")\n",
    "print(f\"ASFM1 : {ASFM1}\")"
   ]
  },
  {
   "cell_type": "code",
   "execution_count": 163,
   "id": "d19c350d",
   "metadata": {},
   "outputs": [],
   "source": [
    "#ASFM1 value is greater than ASFM0, so label 1 will represent defected software and 0 represents non-defected \n",
    "#software\n",
    "\n",
    "\n",
    "\n",
    "TP = 0\n",
    "FN = 0\n",
    "TN = 0\n",
    "FP = 0\n",
    "\n",
    "n,m = df.shape\n",
    "\n",
    "\n",
    "for i in range(n):\n",
    "    \n",
    "    defect = df.iloc[i,m-1]\n",
    "    \n",
    "    if defect == buggy and miniBatchKmeans_prediction[i]==0:\n",
    "        TP += 1\n",
    "    elif defect == buggy and miniBatchKmeans_prediction[i]==1:\n",
    "        FN += 1\n",
    "    elif defect == clean and miniBatchKmeans_prediction[i]==1:\n",
    "        TN += 1\n",
    "    else:\n",
    "        FP += 1"
   ]
  },
  {
   "cell_type": "code",
   "execution_count": 164,
   "id": "1f35483b",
   "metadata": {},
   "outputs": [
    {
     "name": "stdout",
     "output_type": "stream",
     "text": [
      "MCC : 0.15736058322268526\n",
      "Accuracy : 0.9173553719008265\n",
      "F-Score : 0.16666666666666666\n"
     ]
    }
   ],
   "source": [
    "#Matthew Correlation Coefficient\n",
    "\n",
    "MCC = (TP*TN-FP*FN)/math.sqrt((TP+FP)*(TP+FN)*(TN+FP)*(TN+FN))\n",
    "accuracy = (TP+TN)/len(df)\n",
    "precision = TP/(TP+FP)\n",
    "recall = TP/(TP+FN)\n",
    "#F-Score\n",
    "F = 2*(precision*recall)/(precision+recall)\n",
    "\n",
    "print(f\"MCC : {MCC}\")\n",
    "print(f\"Accuracy : {accuracy}\")\n",
    "print(f\"F-Score : {F}\")"
   ]
  },
  {
   "cell_type": "code",
   "execution_count": 165,
   "id": "d3cb428f",
   "metadata": {},
   "outputs": [
    {
     "name": "stdout",
     "output_type": "stream",
     "text": [
      "ASFM0 : 3993.696692976133\n",
      "ASFM1 : 35370.558518369624\n"
     ]
    }
   ],
   "source": [
    "from sklearn.cluster import AgglomerativeClustering\n",
    "\n",
    "ag_model = AgglomerativeClustering(n_clusters = 2)\n",
    "\n",
    "x = x.drop(['cluster'],axis = 'columns')\n",
    "ag_model.fit(x)\n",
    "ag_prediction = ag_model.labels_\n",
    "x['cluster'] = ag_prediction\n",
    "\n",
    "ag_prediction[:5]\n",
    "\n",
    "\n",
    "df0 = x[x.cluster==0]\n",
    "df1 = x[x.cluster==1]\n",
    "\n",
    "ASFM0 = ASFM(df0)\n",
    "ASFM1 = ASFM(df1)\n",
    "\n",
    "print(f\"ASFM0 : {ASFM0}\")\n",
    "print(f\"ASFM1 : {ASFM1}\")"
   ]
  },
  {
   "cell_type": "code",
   "execution_count": 166,
   "id": "cc373770",
   "metadata": {},
   "outputs": [
    {
     "name": "stdout",
     "output_type": "stream",
     "text": [
      "MCC : 0.21028993178188585\n",
      "Accuracy : 0.9256198347107438\n",
      "F-Score : 0.1818181818181818\n"
     ]
    }
   ],
   "source": [
    "#ASFM1 value is greater than ASFM0, so label 1 will represent defected software and 0 represents non-defected \n",
    "#software\n",
    "\n",
    "\n",
    "\n",
    "TP = 0\n",
    "FN = 0\n",
    "TN = 0\n",
    "FP = 0\n",
    "\n",
    "n,m = df.shape\n",
    "\n",
    "\n",
    "for i in range(n):\n",
    "    \n",
    "    defect = df.iloc[i,m-1]\n",
    "    \n",
    "    if defect == buggy and ag_prediction[i]==1:\n",
    "        TP += 1\n",
    "    elif defect == buggy and ag_prediction[i]==0:\n",
    "        FN += 1\n",
    "    elif defect == clean and ag_prediction[i]==0:\n",
    "        TN += 1\n",
    "    else:\n",
    "        FP += 1\n",
    "        \n",
    "        \n",
    "        \n",
    "\n",
    "#Matthew Correlation Coefficient\n",
    "\n",
    "MCC = (TP*TN-FP*FN)/math.sqrt((TP+FP)*(TP+FN)*(TN+FP)*(TN+FN))\n",
    "accuracy = (TP+TN)/len(df)\n",
    "precision = TP/(TP+FP)\n",
    "recall = TP/(TP+FN)\n",
    "#F-Score\n",
    "F = 2*(precision*recall)/(precision+recall)\n",
    "\n",
    "print(f\"MCC : {MCC}\")\n",
    "print(f\"Accuracy : {accuracy}\")\n",
    "print(f\"F-Score : {F}\")"
   ]
  },
  {
   "cell_type": "code",
   "execution_count": 167,
   "id": "e2a26cc8",
   "metadata": {},
   "outputs": [
    {
     "name": "stdout",
     "output_type": "stream",
     "text": [
      "ASFM0 : 17340.733640453775\n",
      "ASFM1 : 2045.0018901348421\n"
     ]
    }
   ],
   "source": [
    "from sklearn.cluster import Birch\n",
    "\n",
    "birch_model = Birch(threshold=0.01, n_clusters=2)\n",
    "\n",
    "x = x.drop(['cluster'],axis = 'columns')\n",
    "birch_model.fit(x)\n",
    "birch_prediction = birch_model.labels_\n",
    "x['cluster'] = birch_prediction\n",
    "\n",
    "birch_prediction[:5]\n",
    "\n",
    "\n",
    "df0 = x[x.cluster==0]\n",
    "df1 = x[x.cluster==1]\n",
    "\n",
    "ASFM0 = ASFM(df0)\n",
    "ASFM1 = ASFM(df1)\n",
    "\n",
    "print(f\"ASFM0 : {ASFM0}\")\n",
    "print(f\"ASFM1 : {ASFM1}\")"
   ]
  },
  {
   "cell_type": "code",
   "execution_count": 168,
   "id": "fb577fc1",
   "metadata": {},
   "outputs": [
    {
     "name": "stdout",
     "output_type": "stream",
     "text": [
      "MCC : 0.32745656883854213\n",
      "Accuracy : 0.8925619834710744\n",
      "F-Score : 0.380952380952381\n"
     ]
    }
   ],
   "source": [
    "#ASFM1 value is greater than ASFM0, so label 1 will represent defected software and 0 represents non-defected \n",
    "#software\n",
    "\n",
    "\n",
    "\n",
    "TP = 0\n",
    "FN = 0\n",
    "TN = 0\n",
    "FP = 0\n",
    "\n",
    "n,m = df.shape\n",
    "\n",
    "\n",
    "for i in range(n):\n",
    "    \n",
    "    defect = df.iloc[i,m-1]\n",
    "    \n",
    "    if defect == buggy and birch_prediction[i]==0:\n",
    "        TP += 1\n",
    "    elif defect == buggy and birch_prediction[i]==1:\n",
    "        FN += 1\n",
    "    elif defect == clean and birch_prediction[i]==1:\n",
    "        TN += 1\n",
    "    else:\n",
    "        FP += 1\n",
    "        \n",
    "        \n",
    "        \n",
    "\n",
    "#Matthew Correlation Coefficient\n",
    "\n",
    "MCC = (TP*TN-FP*FN)/math.sqrt((TP+FP)*(TP+FN)*(TN+FP)*(TN+FN))\n",
    "accuracy = (TP+TN)/len(df)\n",
    "precision = TP/(TP+FP)\n",
    "recall = TP/(TP+FN)\n",
    "#F-Score\n",
    "F = 2*(precision*recall)/(precision+recall)\n",
    "\n",
    "print(f\"MCC : {MCC}\")\n",
    "print(f\"Accuracy : {accuracy}\")\n",
    "print(f\"F-Score : {F}\")"
   ]
  },
  {
   "cell_type": "code",
   "execution_count": 169,
   "id": "d25ef095",
   "metadata": {},
   "outputs": [
    {
     "name": "stderr",
     "output_type": "stream",
     "text": [
      "/home/subhash/.local/lib/python3.8/site-packages/sklearn/manifold/_spectral_embedding.py:245: UserWarning: Graph is not fully connected, spectral embedding may not work as expected.\n",
      "  warnings.warn(\"Graph is not fully connected, spectral embedding\"\n"
     ]
    },
    {
     "name": "stdout",
     "output_type": "stream",
     "text": [
      "ASFM0 : 5298.198225763355\n",
      "ASFM1 : 2026.0025871649589\n"
     ]
    }
   ],
   "source": [
    "from sklearn.cluster import SpectralClustering\n",
    "\n",
    "SC_model = SpectralClustering(n_clusters = 2)\n",
    "\n",
    "x = x.drop(['cluster'],axis = 'columns')\n",
    "SC_model.fit(x)\n",
    "\n",
    "SC_prediction = SC_model.labels_\n",
    "x['cluster'] = SC_prediction\n",
    "\n",
    "SC_prediction[:5]\n",
    "\n",
    "\n",
    "df0 = x[x.cluster==0]\n",
    "df1 = x[x.cluster==1]\n",
    "\n",
    "ASFM0 = ASFM(df0)\n",
    "ASFM1 = ASFM(df1)\n",
    "\n",
    "print(f\"ASFM0 : {ASFM0}\")\n",
    "print(f\"ASFM1 : {ASFM1}\")"
   ]
  },
  {
   "cell_type": "code",
   "execution_count": 170,
   "id": "1fd4aecb",
   "metadata": {},
   "outputs": [
    {
     "name": "stdout",
     "output_type": "stream",
     "text": [
      "MCC : 0.0367496968162519\n",
      "Accuracy : 0.09090909090909091\n",
      "F-Score : 0.140625\n"
     ]
    }
   ],
   "source": [
    "#ASFM1 value is greater than ASFM0, so label 1 will represent defected software and 0 represents non-defected \n",
    "#software\n",
    "\n",
    "\n",
    "\n",
    "TP = 0\n",
    "FN = 0\n",
    "TN = 0\n",
    "FP = 0\n",
    "\n",
    "n,m = df.shape\n",
    "\n",
    "\n",
    "for i in range(n):\n",
    "    \n",
    "    defect = df.iloc[i,m-1]\n",
    "    \n",
    "    if defect == buggy and SC_prediction[i]==0:\n",
    "        TP += 1\n",
    "    elif defect == buggy and SC_prediction[i]==1:\n",
    "        FN += 1\n",
    "    elif defect == clean and SC_prediction[i]==1:\n",
    "        TN += 1\n",
    "    else:\n",
    "        FP += 1\n",
    "        \n",
    "        \n",
    "        \n",
    "\n",
    "#Matthew Correlation Coefficient\n",
    "\n",
    "MCC = (TP*TN-FP*FN)/math.sqrt((TP+FP)*(TP+FN)*(TN+FP)*(TN+FN))\n",
    "accuracy = (TP+TN)/len(df)\n",
    "precision = TP/(TP+FP)\n",
    "recall = TP/(TP+FN)\n",
    "#F1-Score\n",
    "F = 2*(precision*recall)/(precision+recall)\n",
    "\n",
    "print(f\"MCC : {MCC}\")\n",
    "print(f\"Accuracy : {accuracy}\")\n",
    "print(f\"F-Score : {F}\")"
   ]
  },
  {
   "cell_type": "code",
   "execution_count": 171,
   "id": "6170fa40",
   "metadata": {},
   "outputs": [
    {
     "name": "stdout",
     "output_type": "stream",
     "text": [
      "ASFM0 : 1860.2472253178464\n",
      "ASFM1 : 11863.989819844122\n"
     ]
    }
   ],
   "source": [
    "from sklearn.mixture import GaussianMixture\n",
    "\n",
    "gm_model = GaussianMixture(n_components = 2)\n",
    "\n",
    "x = x.drop(['cluster'],axis = 'columns')\n",
    "gm_model.fit(x)\n",
    "gm_prediction = gm_model.predict(x)\n",
    "x['cluster'] = gm_prediction\n",
    "\n",
    "gm_prediction[:5]\n",
    "\n",
    "\n",
    "df0 = x[x.cluster==0]\n",
    "df1 = x[x.cluster==1]\n",
    "\n",
    "ASFM0 = ASFM(df0)\n",
    "ASFM1 = ASFM(df1)\n",
    "\n",
    "print(f\"ASFM0 : {ASFM0}\")\n",
    "print(f\"ASFM1 : {ASFM1}\")"
   ]
  },
  {
   "cell_type": "code",
   "execution_count": 172,
   "id": "0b23373b",
   "metadata": {},
   "outputs": [
    {
     "name": "stdout",
     "output_type": "stream",
     "text": [
      "MCC : 0.586744587362836\n",
      "Accuracy : 0.9256198347107438\n",
      "F-Score : 0.6086956521739131\n"
     ]
    }
   ],
   "source": [
    "#ASFM1 value is greater than ASFM0, so label 1 will represent defected software and 0 represents non-defected \n",
    "#software\n",
    "\n",
    "\n",
    "\n",
    "TP = 0\n",
    "FN = 0\n",
    "TN = 0\n",
    "FP = 0\n",
    "\n",
    "n,m = df.shape\n",
    "\n",
    "\n",
    "for i in range(n):\n",
    "    \n",
    "    defect = df.iloc[i,m-1]\n",
    "    \n",
    "    if defect == buggy and gm_prediction[i]==1:\n",
    "        TP += 1\n",
    "    elif defect == buggy and gm_prediction[i]==0:\n",
    "        FN += 1\n",
    "    elif defect == clean and gm_prediction[i]==0:\n",
    "        TN += 1\n",
    "    else:\n",
    "        FP += 1\n",
    "        \n",
    "        \n",
    "        \n",
    "\n",
    "#Matthew Correlation Coefficient\n",
    "\n",
    "MCC = (TP*TN-FP*FN)/math.sqrt((TP+FP)*(TP+FN)*(TN+FP)*(TN+FN))\n",
    "accuracy = (TP+TN)/len(df)\n",
    "precision = TP/(TP+FP)\n",
    "recall = TP/(TP+FN)\n",
    "#F-Score\n",
    "F = 2*(precision*recall)/(precision+recall)\n",
    "\n",
    "print(f\"MCC : {MCC}\")\n",
    "print(f\"Accuracy : {accuracy}\")\n",
    "print(f\"F-Score : {F}\")"
   ]
  },
  {
   "cell_type": "code",
   "execution_count": null,
   "id": "56308655",
   "metadata": {},
   "outputs": [],
   "source": []
  }
 ],
 "metadata": {
  "kernelspec": {
   "display_name": "Python 3 (ipykernel)",
   "language": "python",
   "name": "python3"
  },
  "language_info": {
   "codemirror_mode": {
    "name": "ipython",
    "version": 3
   },
   "file_extension": ".py",
   "mimetype": "text/x-python",
   "name": "python",
   "nbconvert_exporter": "python",
   "pygments_lexer": "ipython3",
   "version": "3.9.7"
  }
 },
 "nbformat": 4,
 "nbformat_minor": 5
}
