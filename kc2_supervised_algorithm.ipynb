{
 "cells": [
  {
   "cell_type": "code",
   "execution_count": 1,
   "id": "27423b10",
   "metadata": {},
   "outputs": [],
   "source": [
    "from scipy.io import arff\n",
    "import pandas as pd\n",
    "import numpy as np\n",
    "import math\n",
    "\n",
    "from numpy import unique\n",
    "from numpy import where\n",
    "from matplotlib import pyplot\n",
    "\n",
    "data = arff.loadarff('./../DefectData/inst/extdata/terapromise/mccabe/kc2.arff') \n",
    "df = pd.DataFrame(data[0])"
   ]
  },
  {
   "cell_type": "code",
   "execution_count": 2,
   "id": "e6a701b1",
   "metadata": {},
   "outputs": [
    {
     "data": {
      "text/plain": [
       "(522, 22)"
      ]
     },
     "execution_count": 2,
     "metadata": {},
     "output_type": "execute_result"
    }
   ],
   "source": [
    "df.shape"
   ]
  },
  {
   "cell_type": "code",
   "execution_count": 3,
   "id": "d41c118d",
   "metadata": {},
   "outputs": [
    {
     "data": {
      "text/html": [
       "<div>\n",
       "<style scoped>\n",
       "    .dataframe tbody tr th:only-of-type {\n",
       "        vertical-align: middle;\n",
       "    }\n",
       "\n",
       "    .dataframe tbody tr th {\n",
       "        vertical-align: top;\n",
       "    }\n",
       "\n",
       "    .dataframe thead th {\n",
       "        text-align: right;\n",
       "    }\n",
       "</style>\n",
       "<table border=\"1\" class=\"dataframe\">\n",
       "  <thead>\n",
       "    <tr style=\"text-align: right;\">\n",
       "      <th></th>\n",
       "      <th>loc</th>\n",
       "      <th>v_g</th>\n",
       "      <th>ev_g</th>\n",
       "      <th>iv_g</th>\n",
       "      <th>n</th>\n",
       "      <th>v</th>\n",
       "      <th>l</th>\n",
       "      <th>d</th>\n",
       "      <th>i</th>\n",
       "      <th>e</th>\n",
       "      <th>...</th>\n",
       "      <th>lOCode</th>\n",
       "      <th>lOComment</th>\n",
       "      <th>lOBlank</th>\n",
       "      <th>lOCodeAndComment</th>\n",
       "      <th>uniq_Op</th>\n",
       "      <th>uniq_Opnd</th>\n",
       "      <th>total_Op</th>\n",
       "      <th>total_Opnd</th>\n",
       "      <th>branchCount</th>\n",
       "      <th>problems</th>\n",
       "    </tr>\n",
       "  </thead>\n",
       "  <tbody>\n",
       "    <tr>\n",
       "      <th>0</th>\n",
       "      <td>1.1</td>\n",
       "      <td>1.4</td>\n",
       "      <td>1.4</td>\n",
       "      <td>1.4</td>\n",
       "      <td>1.3</td>\n",
       "      <td>1.30</td>\n",
       "      <td>1.30</td>\n",
       "      <td>1.30</td>\n",
       "      <td>1.30</td>\n",
       "      <td>1.30</td>\n",
       "      <td>...</td>\n",
       "      <td>2.0</td>\n",
       "      <td>2.0</td>\n",
       "      <td>2.0</td>\n",
       "      <td>2.0</td>\n",
       "      <td>1.2</td>\n",
       "      <td>1.2</td>\n",
       "      <td>1.2</td>\n",
       "      <td>1.2</td>\n",
       "      <td>1.4</td>\n",
       "      <td>b'no'</td>\n",
       "    </tr>\n",
       "    <tr>\n",
       "      <th>1</th>\n",
       "      <td>1.0</td>\n",
       "      <td>1.0</td>\n",
       "      <td>1.0</td>\n",
       "      <td>1.0</td>\n",
       "      <td>1.0</td>\n",
       "      <td>1.00</td>\n",
       "      <td>1.00</td>\n",
       "      <td>1.00</td>\n",
       "      <td>1.00</td>\n",
       "      <td>1.00</td>\n",
       "      <td>...</td>\n",
       "      <td>1.0</td>\n",
       "      <td>1.0</td>\n",
       "      <td>1.0</td>\n",
       "      <td>1.0</td>\n",
       "      <td>1.0</td>\n",
       "      <td>1.0</td>\n",
       "      <td>1.0</td>\n",
       "      <td>1.0</td>\n",
       "      <td>1.0</td>\n",
       "      <td>b'yes'</td>\n",
       "    </tr>\n",
       "    <tr>\n",
       "      <th>2</th>\n",
       "      <td>415.0</td>\n",
       "      <td>59.0</td>\n",
       "      <td>50.0</td>\n",
       "      <td>51.0</td>\n",
       "      <td>1159.0</td>\n",
       "      <td>8411.31</td>\n",
       "      <td>0.01</td>\n",
       "      <td>103.53</td>\n",
       "      <td>81.24</td>\n",
       "      <td>870848.58</td>\n",
       "      <td>...</td>\n",
       "      <td>359.0</td>\n",
       "      <td>35.0</td>\n",
       "      <td>9.0</td>\n",
       "      <td>10.0</td>\n",
       "      <td>47.0</td>\n",
       "      <td>106.0</td>\n",
       "      <td>692.0</td>\n",
       "      <td>467.0</td>\n",
       "      <td>106.0</td>\n",
       "      <td>b'yes'</td>\n",
       "    </tr>\n",
       "    <tr>\n",
       "      <th>3</th>\n",
       "      <td>230.0</td>\n",
       "      <td>33.0</td>\n",
       "      <td>10.0</td>\n",
       "      <td>16.0</td>\n",
       "      <td>575.0</td>\n",
       "      <td>3732.82</td>\n",
       "      <td>0.03</td>\n",
       "      <td>39.82</td>\n",
       "      <td>93.74</td>\n",
       "      <td>148644.06</td>\n",
       "      <td>...</td>\n",
       "      <td>174.0</td>\n",
       "      <td>15.0</td>\n",
       "      <td>34.0</td>\n",
       "      <td>5.0</td>\n",
       "      <td>23.0</td>\n",
       "      <td>67.0</td>\n",
       "      <td>343.0</td>\n",
       "      <td>232.0</td>\n",
       "      <td>65.0</td>\n",
       "      <td>b'yes'</td>\n",
       "    </tr>\n",
       "    <tr>\n",
       "      <th>4</th>\n",
       "      <td>175.0</td>\n",
       "      <td>26.0</td>\n",
       "      <td>12.0</td>\n",
       "      <td>13.0</td>\n",
       "      <td>500.0</td>\n",
       "      <td>3123.96</td>\n",
       "      <td>0.03</td>\n",
       "      <td>29.48</td>\n",
       "      <td>105.96</td>\n",
       "      <td>92103.07</td>\n",
       "      <td>...</td>\n",
       "      <td>142.0</td>\n",
       "      <td>7.0</td>\n",
       "      <td>19.0</td>\n",
       "      <td>4.0</td>\n",
       "      <td>18.0</td>\n",
       "      <td>58.0</td>\n",
       "      <td>310.0</td>\n",
       "      <td>190.0</td>\n",
       "      <td>51.0</td>\n",
       "      <td>b'yes'</td>\n",
       "    </tr>\n",
       "  </tbody>\n",
       "</table>\n",
       "<p>5 rows × 22 columns</p>\n",
       "</div>"
      ],
      "text/plain": [
       "     loc   v_g  ev_g  iv_g       n        v     l       d       i          e  \\\n",
       "0    1.1   1.4   1.4   1.4     1.3     1.30  1.30    1.30    1.30       1.30   \n",
       "1    1.0   1.0   1.0   1.0     1.0     1.00  1.00    1.00    1.00       1.00   \n",
       "2  415.0  59.0  50.0  51.0  1159.0  8411.31  0.01  103.53   81.24  870848.58   \n",
       "3  230.0  33.0  10.0  16.0   575.0  3732.82  0.03   39.82   93.74  148644.06   \n",
       "4  175.0  26.0  12.0  13.0   500.0  3123.96  0.03   29.48  105.96   92103.07   \n",
       "\n",
       "   ...  lOCode  lOComment  lOBlank  lOCodeAndComment  uniq_Op  uniq_Opnd  \\\n",
       "0  ...     2.0        2.0      2.0               2.0      1.2        1.2   \n",
       "1  ...     1.0        1.0      1.0               1.0      1.0        1.0   \n",
       "2  ...   359.0       35.0      9.0              10.0     47.0      106.0   \n",
       "3  ...   174.0       15.0     34.0               5.0     23.0       67.0   \n",
       "4  ...   142.0        7.0     19.0               4.0     18.0       58.0   \n",
       "\n",
       "   total_Op  total_Opnd  branchCount  problems  \n",
       "0       1.2         1.2          1.4     b'no'  \n",
       "1       1.0         1.0          1.0    b'yes'  \n",
       "2     692.0       467.0        106.0    b'yes'  \n",
       "3     343.0       232.0         65.0    b'yes'  \n",
       "4     310.0       190.0         51.0    b'yes'  \n",
       "\n",
       "[5 rows x 22 columns]"
      ]
     },
     "execution_count": 3,
     "metadata": {},
     "output_type": "execute_result"
    }
   ],
   "source": [
    "df.head()"
   ]
  },
  {
   "cell_type": "code",
   "execution_count": 4,
   "id": "92955499",
   "metadata": {},
   "outputs": [
    {
     "data": {
      "text/plain": [
       "0    0\n",
       "1    1\n",
       "2    1\n",
       "3    1\n",
       "4    1\n",
       "Name: problems, dtype: int64"
      ]
     },
     "execution_count": 4,
     "metadata": {},
     "output_type": "execute_result"
    }
   ],
   "source": [
    "buggy = b'yes'\n",
    "clean = b'no'\n",
    "x = df.drop(['problems'],axis = 'columns')\n",
    "\n",
    "for i in range(522):\n",
    "    if df.iloc[i,21] == buggy:\n",
    "        df.iloc[i,21] = 1\n",
    "    else:\n",
    "        df.iloc[i,21] = 0\n",
    "\n",
    "y = df['problems']\n",
    "y = y.astype(int)\n",
    "y.head()"
   ]
  },
  {
   "cell_type": "code",
   "execution_count": 5,
   "id": "e4b575bf",
   "metadata": {},
   "outputs": [
    {
     "data": {
      "text/plain": [
       "313"
      ]
     },
     "execution_count": 5,
     "metadata": {},
     "output_type": "execute_result"
    }
   ],
   "source": [
    "from sklearn.model_selection import train_test_split\n",
    "\n",
    "x_train, x_test, y_train, y_test = train_test_split(x,y,test_size = 0.4,stratify = y)\n",
    "\n",
    "len(x_train)"
   ]
  },
  {
   "cell_type": "code",
   "execution_count": 6,
   "id": "40c3b8b0",
   "metadata": {},
   "outputs": [
    {
     "data": {
      "text/plain": [
       "0    249\n",
       "1     64\n",
       "Name: problems, dtype: int64"
      ]
     },
     "execution_count": 6,
     "metadata": {},
     "output_type": "execute_result"
    }
   ],
   "source": [
    "y_train.value_counts()"
   ]
  },
  {
   "cell_type": "code",
   "execution_count": 7,
   "id": "9de1c3e1",
   "metadata": {},
   "outputs": [
    {
     "data": {
      "text/plain": [
       "0    166\n",
       "1     43\n",
       "Name: problems, dtype: int64"
      ]
     },
     "execution_count": 7,
     "metadata": {},
     "output_type": "execute_result"
    }
   ],
   "source": [
    "y_test.value_counts()"
   ]
  },
  {
   "cell_type": "code",
   "execution_count": 8,
   "id": "8dda4e01",
   "metadata": {},
   "outputs": [],
   "source": [
    "# training the model on training set\n",
    "from sklearn.naive_bayes import GaussianNB\n",
    "gnb = GaussianNB()\n",
    "gnb.fit(x_train, y_train)\n",
    "\n",
    "# making predictions on the testing set\n",
    "y_pred = gnb.predict(x_test)"
   ]
  },
  {
   "cell_type": "code",
   "execution_count": 9,
   "id": "9b093821",
   "metadata": {},
   "outputs": [
    {
     "name": "stdout",
     "output_type": "stream",
     "text": [
      "MCC : 0.6710776093194104\n",
      "Accuracy : 0.8995215311004785\n",
      "F-Score : 0.9387755102040816\n"
     ]
    }
   ],
   "source": [
    "from sklearn.metrics import confusion_matrix\n",
    "\n",
    "conf = confusion_matrix(y_test,y_pred)\n",
    "TP = conf[0,0]\n",
    "FP = conf[0,1]\n",
    "TN = conf[1,0]\n",
    "FN = conf[1,1]\n",
    "\n",
    "#Matthew Correlation Coefficient\n",
    "\n",
    "MCC = (TP*TN-FP*FN)/math.sqrt((TP+FP)*(TP+FN)*(TN+FP)*(TN+FN))\n",
    "accuracy = (TP+TN)/(TP+TN+FP+FN)\n",
    "precision = TP/(TP+FP)\n",
    "recall = TP/(TP+FN)\n",
    "#F1-Score\n",
    "F = 2*(precision*recall)/(precision+recall)\n",
    "\n",
    "print(f\"MCC : {MCC}\")\n",
    "print(f\"Accuracy : {accuracy}\")\n",
    "print(f\"F-Score : {F}\")"
   ]
  },
  {
   "cell_type": "code",
   "execution_count": 10,
   "id": "d5274d9f",
   "metadata": {},
   "outputs": [
    {
     "name": "stdout",
     "output_type": "stream",
     "text": [
      "MCC : 0.9107014736262873\n",
      "Accuracy : 0.9712918660287081\n",
      "F-Score : 0.9821428571428572\n"
     ]
    }
   ],
   "source": [
    "from sklearn.svm import SVC\n",
    "\n",
    "svc_model = SVC() \n",
    "svc_model.fit(x_train, y_train) \n",
    "\n",
    "y_pred = svc_model .predict(x_test) \n",
    "\n",
    "\n",
    "from sklearn.metrics import confusion_matrix\n",
    "\n",
    "conf = confusion_matrix(y_test,y_pred)\n",
    "TP = conf[0,0]\n",
    "FP = conf[0,1]\n",
    "TN = conf[1,0]\n",
    "FN = conf[1,1]\n",
    "\n",
    "#Matthew Correlation Coefficient\n",
    "\n",
    "MCC = (TP*TN-FP*FN)/math.sqrt((TP+FP)*(TP+FN)*(TN+FP)*(TN+FN))\n",
    "accuracy = (TP+TN)/(TP+TN+FP+FN)\n",
    "precision = TP/(TP+FP)\n",
    "recall = TP/(TP+FN)\n",
    "#F1-Score\n",
    "F = 2*(precision*recall)/(precision+recall)\n",
    "\n",
    "print(f\"MCC : {MCC}\")\n",
    "print(f\"Accuracy : {accuracy}\")\n",
    "print(f\"F-Score : {F}\")"
   ]
  },
  {
   "cell_type": "code",
   "execution_count": 11,
   "id": "78519ebd",
   "metadata": {},
   "outputs": [
    {
     "name": "stdout",
     "output_type": "stream",
     "text": [
      "MCC : 0.6910139219967659\n",
      "Accuracy : 0.9043062200956937\n",
      "F-Score : 0.9411764705882354\n"
     ]
    }
   ],
   "source": [
    "from sklearn.neighbors import KNeighborsClassifier\n",
    "classifier = KNeighborsClassifier()\n",
    "classifier.fit(x_train, y_train)\n",
    "\n",
    "y_pred = classifier.predict(x_test)\n",
    "\n",
    "\n",
    "from sklearn.metrics import confusion_matrix\n",
    "\n",
    "conf = confusion_matrix(y_test,y_pred)\n",
    "TP = conf[0,0]\n",
    "FP = conf[0,1]\n",
    "TN = conf[1,0]\n",
    "FN = conf[1,1]\n",
    "\n",
    "#Matthew Correlation Coefficient\n",
    "\n",
    "MCC = (TP*TN-FP*FN)/math.sqrt((TP+FP)*(TP+FN)*(TN+FP)*(TN+FN))\n",
    "accuracy = (TP+TN)/(TP+TN+FP+FN)\n",
    "precision = TP/(TP+FP)\n",
    "recall = TP/(TP+FN)\n",
    "#F1-Score\n",
    "F = 2*(precision*recall)/(precision+recall)\n",
    "\n",
    "print(f\"MCC : {MCC}\")\n",
    "print(f\"Accuracy : {accuracy}\")\n",
    "print(f\"F-Score : {F}\")"
   ]
  },
  {
   "cell_type": "code",
   "execution_count": 12,
   "id": "cc844a60",
   "metadata": {},
   "outputs": [
    {
     "name": "stdout",
     "output_type": "stream",
     "text": [
      "MCC : 0.5202403889930116\n",
      "Accuracy : 0.8564593301435407\n",
      "F-Score : 0.9127906976744187\n"
     ]
    }
   ],
   "source": [
    "#Fitting Decision Tree classifier to the training set  \n",
    "from sklearn.ensemble import RandomForestClassifier  \n",
    "classifier= RandomForestClassifier(n_estimators= 10, criterion=\"entropy\")  \n",
    "classifier.fit(x_train, y_train)  \n",
    "\n",
    "y_pred= classifier.predict(x_test)  \n",
    "\n",
    "from sklearn.metrics import confusion_matrix\n",
    "\n",
    "conf = confusion_matrix(y_test,y_pred)\n",
    "TP = conf[0,0]\n",
    "FP = conf[0,1]\n",
    "TN = conf[1,0]\n",
    "FN = conf[1,1]\n",
    "\n",
    "#Matthew Correlation Coefficient\n",
    "\n",
    "MCC = (TP*TN-FP*FN)/math.sqrt((TP+FP)*(TP+FN)*(TN+FP)*(TN+FN))\n",
    "accuracy = (TP+TN)/(TP+TN+FP+FN)\n",
    "precision = TP/(TP+FP)\n",
    "recall = TP/(TP+FN)\n",
    "#F1-Score\n",
    "F = 2*(precision*recall)/(precision+recall)\n",
    "\n",
    "print(f\"MCC : {MCC}\")\n",
    "print(f\"Accuracy : {accuracy}\")\n",
    "print(f\"F-Score : {F}\")"
   ]
  },
  {
   "cell_type": "code",
   "execution_count": 13,
   "id": "ccdd60b2",
   "metadata": {},
   "outputs": [
    {
     "name": "stdout",
     "output_type": "stream",
     "text": [
      "MCC : 0.7082122083739546\n",
      "Accuracy : 0.9090909090909091\n",
      "F-Score : 0.943952802359882\n"
     ]
    },
    {
     "name": "stderr",
     "output_type": "stream",
     "text": [
      "/home/subhash/.local/lib/python3.8/site-packages/sklearn/linear_model/_logistic.py:814: ConvergenceWarning: lbfgs failed to converge (status=1):\n",
      "STOP: TOTAL NO. of ITERATIONS REACHED LIMIT.\n",
      "\n",
      "Increase the number of iterations (max_iter) or scale the data as shown in:\n",
      "    https://scikit-learn.org/stable/modules/preprocessing.html\n",
      "Please also refer to the documentation for alternative solver options:\n",
      "    https://scikit-learn.org/stable/modules/linear_model.html#logistic-regression\n",
      "  n_iter_i = _check_optimize_result(\n"
     ]
    }
   ],
   "source": [
    "#Fitting Logistic Regression to the training set  \n",
    "from sklearn.linear_model import LogisticRegression  \n",
    "classifier= LogisticRegression(random_state=0)  \n",
    "classifier.fit(x_train, y_train) \n",
    "\n",
    "y_pred= classifier.predict(x_test)  \n",
    "\n",
    "from sklearn.metrics import confusion_matrix\n",
    "\n",
    "conf = confusion_matrix(y_test,y_pred)\n",
    "TP = conf[0,0]\n",
    "FP = conf[0,1]\n",
    "TN = conf[1,0]\n",
    "FN = conf[1,1]\n",
    "\n",
    "#Matthew Correlation Coefficient\n",
    "\n",
    "MCC = (TP*TN-FP*FN)/math.sqrt((TP+FP)*(TP+FN)*(TN+FP)*(TN+FN))\n",
    "accuracy = (TP+TN)/(TP+TN+FP+FN)\n",
    "precision = TP/(TP+FP)\n",
    "recall = TP/(TP+FN)\n",
    "#F1-Score\n",
    "F = 2*(precision*recall)/(precision+recall)\n",
    "\n",
    "print(f\"MCC : {MCC}\")\n",
    "print(f\"Accuracy : {accuracy}\")\n",
    "print(f\"F-Score : {F}\")"
   ]
  },
  {
   "cell_type": "code",
   "execution_count": null,
   "id": "8130dc62",
   "metadata": {},
   "outputs": [],
   "source": []
  },
  {
   "cell_type": "code",
   "execution_count": null,
   "id": "cc449fe3",
   "metadata": {},
   "outputs": [],
   "source": []
  }
 ],
 "metadata": {
  "kernelspec": {
   "display_name": "Python 3 (ipykernel)",
   "language": "python",
   "name": "python3"
  },
  "language_info": {
   "codemirror_mode": {
    "name": "ipython",
    "version": 3
   },
   "file_extension": ".py",
   "mimetype": "text/x-python",
   "name": "python",
   "nbconvert_exporter": "python",
   "pygments_lexer": "ipython3",
   "version": "3.9.7"
  }
 },
 "nbformat": 4,
 "nbformat_minor": 5
}
